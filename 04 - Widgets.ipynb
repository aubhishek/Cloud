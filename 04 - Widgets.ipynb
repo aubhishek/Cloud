{
 "cells": [
  {
   "cell_type": "markdown",
   "metadata": {
    "application/vnd.databricks.v1+cell": {
     "cellMetadata": {},
     "inputWidgets": {},
     "nuid": "4f89a200-573b-45b8-8af2-3497d9279f41",
     "showTitle": false,
     "title": ""
    }
   },
   "source": [
    "# Visualizing Data and Dashboards\n",
    "Widgets are used to add parameters to your notebooks. They are best for executing notebooks or dashboards with different parameters or quickly exploring results of a single query with different parameters."
   ]
  },
  {
   "cell_type": "code",
   "execution_count": 0,
   "metadata": {
    "application/vnd.databricks.v1+cell": {
     "cellMetadata": {
      "byteLimit": 2048000,
      "rowLimit": 10000
     },
     "inputWidgets": {},
     "nuid": "3aa4e3c8-e169-4a95-a953-5db7601c6b56",
     "showTitle": false,
     "title": ""
    }
   },
   "outputs": [
    {
     "output_type": "display_data",
     "data": {
      "text/html": [
       "<div class = \"ansiout\"><b>dbutils.widgets</b> provides utilities for working with notebook widgets. You can create\n",
       "different types of widgets and get their bound value.\n",
       "\n",
       "For more info about a method, use <b>dbutils.widgets.help(\"methodName\")</b>.\n",
       "    <h3></h3><b>combobox(name: String, defaultValue: String, choices: Seq, label: String): void</b> -> Creates a combobox input widget with a given name, default value and choices<br /><b>dropdown(name: String, defaultValue: String, choices: Seq, label: String): void</b> -> Creates a dropdown input widget a with given name, default value and choices<br /><b>get(name: String): String</b> -> Retrieves current value of an input widget<br /><b>getArgument(name: String, optional: String): String</b> -> (DEPRECATED) Equivalent to get<br /><b>multiselect(name: String, defaultValue: String, choices: Seq, label: String): void</b> -> Creates a multiselect input widget with a given name, default value and choices<br /><b>remove(name: String): void</b> -> Removes an input widget from the notebook<br /><b>removeAll: void</b> -> Removes all widgets in the notebook<br /><b>text(name: String, defaultValue: String, label: String): void</b> -> Creates a text input widget with a given name and default value<br /><br /></div>"
      ]
     },
     "metadata": {
      "application/vnd.databricks.v1+output": {
       "addedWidgets": {},
       "arguments": {},
       "data": "<div class = \"ansiout\"><b>dbutils.widgets</b> provides utilities for working with notebook widgets. You can create\ndifferent types of widgets and get their bound value.\n\nFor more info about a method, use <b>dbutils.widgets.help(\"methodName\")</b>.\n    <h3></h3><b>combobox(name: String, defaultValue: String, choices: Seq, label: String): void</b> -> Creates a combobox input widget with a given name, default value and choices<br /><b>dropdown(name: String, defaultValue: String, choices: Seq, label: String): void</b> -> Creates a dropdown input widget a with given name, default value and choices<br /><b>get(name: String): String</b> -> Retrieves current value of an input widget<br /><b>getArgument(name: String, optional: String): String</b> -> (DEPRECATED) Equivalent to get<br /><b>multiselect(name: String, defaultValue: String, choices: Seq, label: String): void</b> -> Creates a multiselect input widget with a given name, default value and choices<br /><b>remove(name: String): void</b> -> Removes an input widget from the notebook<br /><b>removeAll: void</b> -> Removes all widgets in the notebook<br /><b>text(name: String, defaultValue: String, label: String): void</b> -> Creates a text input widget with a given name and default value<br /><br /></div>",
       "datasetInfos": [],
       "metadata": {},
       "removedWidgets": [],
       "textData": null,
       "type": "htmlSandbox"
      }
     },
     "output_type": "display_data"
    }
   ],
   "source": [
    "dbutils.widgets.help()"
   ]
  },
  {
   "cell_type": "code",
   "execution_count": 0,
   "metadata": {
    "application/vnd.databricks.v1+cell": {
     "cellMetadata": {
      "byteLimit": 2048000,
      "rowLimit": 10000
     },
     "inputWidgets": {},
     "nuid": "e98e1351-3951-4039-92de-c3374b4bd8ce",
     "showTitle": false,
     "title": ""
    }
   },
   "outputs": [
    {
     "output_type": "display_data",
     "data": {
      "text/html": [
       "<style scoped>\n",
       "  .table-result-container {\n",
       "    max-height: 300px;\n",
       "    overflow: auto;\n",
       "  }\n",
       "  table, th, td {\n",
       "    border: 1px solid black;\n",
       "    border-collapse: collapse;\n",
       "  }\n",
       "  th, td {\n",
       "    padding: 5px;\n",
       "  }\n",
       "  th {\n",
       "    text-align: left;\n",
       "  }\n",
       "</style><div class='table-result-container'><table class='table-result'><thead style='background-color: white'><tr><th>room_type</th></tr></thead><tbody><tr><td>Entire home/apt</td></tr><tr><td>Hotel room</td></tr><tr><td>Private room</td></tr><tr><td>Shared room</td></tr></tbody></table></div>"
      ]
     },
     "metadata": {
      "application/vnd.databricks.v1+output": {
       "addedWidgets": {},
       "aggData": [],
       "aggError": "",
       "aggOverflow": false,
       "aggSchema": [],
       "aggSeriesLimitReached": false,
       "aggType": "",
       "arguments": {},
       "columnCustomDisplayInfos": {},
       "data": [
        [
         "Entire home/apt"
        ],
        [
         "Hotel room"
        ],
        [
         "Private room"
        ],
        [
         "Shared room"
        ]
       ],
       "datasetInfos": [],
       "dbfsResultPath": null,
       "isJsonSchema": true,
       "metadata": {},
       "overflow": false,
       "plotOptions": {
        "customPlotOptions": {},
        "displayType": "table",
        "pivotAggregation": null,
        "pivotColumns": null,
        "xColumns": null,
        "yColumns": null
       },
       "removedWidgets": [],
       "schema": [
        {
         "metadata": "{}",
         "name": "room_type",
         "type": "\"string\""
        }
       ],
       "type": "table"
      }
     },
     "output_type": "display_data"
    }
   ],
   "source": [
    "# create a dataframe with the distinct list of room types\n",
    "roomtypes = spark.sql('select distinct room_type from airbnb.listings where cast(room_type as double) is null and not isnull(room_type) order by room_type')\n",
    "\n",
    "display(roomtypes)"
   ]
  },
  {
   "cell_type": "code",
   "execution_count": 0,
   "metadata": {
    "application/vnd.databricks.v1+cell": {
     "cellMetadata": {
      "byteLimit": 2048000,
      "rowLimit": 10000
     },
     "inputWidgets": {},
     "nuid": "e25c3fe1-eabf-4c0d-be63-51b959444250",
     "showTitle": false,
     "title": ""
    }
   },
   "outputs": [],
   "source": [
    "rooms = map(lambda x: str(x[0]), roomtypes.select(\"room_type\").distinct().collect())\n"
   ]
  },
  {
   "cell_type": "code",
   "execution_count": 0,
   "metadata": {
    "application/vnd.databricks.v1+cell": {
     "cellMetadata": {
      "byteLimit": 2048000,
      "rowLimit": 10000
     },
     "inputWidgets": {},
     "nuid": "cdcce3d7-f845-4969-96b3-e23f9e688617",
     "showTitle": false,
     "title": ""
    }
   },
   "outputs": [],
   "source": [
    "# widget dropdown\n",
    "\n",
    "dbutils.widgets.dropdown(\"roomtypes\",\"Private room\", [str(room_type) for room_type in rooms])\n"
   ]
  },
  {
   "cell_type": "code",
   "execution_count": 0,
   "metadata": {
    "application/vnd.databricks.v1+cell": {
     "cellMetadata": {
      "byteLimit": 2048000,
      "rowLimit": 10000
     },
     "inputWidgets": {},
     "nuid": "b480ba51-7dd2-4a90-8c28-bbbfafc44452",
     "showTitle": false,
     "title": ""
    }
   },
   "outputs": [
    {
     "output_type": "display_data",
     "data": {
      "text/html": [
       "<style scoped>\n",
       "  .table-result-container {\n",
       "    max-height: 300px;\n",
       "    overflow: auto;\n",
       "  }\n",
       "  table, th, td {\n",
       "    border: 1px solid black;\n",
       "    border-collapse: collapse;\n",
       "  }\n",
       "  th, td {\n",
       "    padding: 5px;\n",
       "  }\n",
       "  th {\n",
       "    text-align: left;\n",
       "  }\n",
       "</style><div class='table-result-container'><table class='table-result'><thead style='background-color: white'><tr><th>name</th><th>room_type</th><th>neighbourhood</th><th>price</th><th>reviews_per_month</th><th>availability_365</th></tr></thead><tbody><tr><td>Home in Asheville · ★4.52 · 1 bedroom · 1 bed · 2.5 shared baths</td><td>Private room</td><td>28806</td><td>66</td><td>0.47</td><td>0</td></tr><tr><td>Home in Asheville · ★4.96 · 1 bedroom · 1 bed · 1 private bath</td><td>Private room</td><td>28806</td><td>45</td><td>0.51</td><td>82</td></tr><tr><td>Cabin in Asheville · ★4.66 · 1 bedroom · 1 bed · 1 shared bath</td><td>Private room</td><td>28805</td><td>68</td><td>0.41</td><td>57</td></tr><tr><td>Home in Asheville · ★4.65 · 1 bedroom · 1 bed · 1 private bath</td><td>Private room</td><td>28805</td><td>58</td><td>2.02</td><td>362</td></tr><tr><td>Home in Asheville · ★4.68 · 1 bedroom · 1 bed · 1 private bath</td><td>Private room</td><td>28801</td><td>63</td><td>8.5</td><td>0</td></tr><tr><td>Bed and breakfast in Asheville · ★4.79 · 1 bedroom · 2 beds · 1 private bath</td><td>Private room</td><td>28801</td><td>249</td><td>0.13</td><td>317</td></tr><tr><td>Home in Asheville · ★4.71 · 1 bedroom · 1 bed · 1 private bath</td><td>Private room</td><td>28805</td><td>185</td><td>1.63</td><td>365</td></tr><tr><td>Home in Asheville · ★4.94 · 1 bedroom · 1 bed · 1 private bath</td><td>Private room</td><td>28806</td><td>77</td><td>5.05</td><td>169</td></tr><tr><td>Bungalow in Asheville · ★4.90 · 1 bedroom · 1 bed · 1 private bath</td><td>Private room</td><td>28806</td><td>84</td><td>2.62</td><td>175</td></tr><tr><td>Home in Arden · ★4.97 · 1 bedroom · 1 bed · 1 private bath</td><td>Private room</td><td>28704</td><td>79</td><td>1.06</td><td>359</td></tr><tr><td>Home in Asheville · ★4.89 · 1 bedroom · 1 bed · 1 bath</td><td>Private room</td><td>28801</td><td>70</td><td>0.33</td><td>335</td></tr><tr><td>Bed and breakfast in Asheville · ★4.80 · 1 bedroom · 1 bed · 1 private bath</td><td>Private room</td><td>28801</td><td>199</td><td>0.06</td><td>308</td></tr><tr><td>Home in Asheville · ★4.95 · 1 bedroom · 1 bed · 1 private bath</td><td>Private room</td><td>28801</td><td>90</td><td>2.36</td><td>269</td></tr><tr><td>Rental unit in Asheville · ★4.76 · 1 bedroom · 1 bed · 2 shared baths</td><td>Private room</td><td>28801</td><td>96</td><td>4.23</td><td>325</td></tr><tr><td>Bungalow in Asheville · ★4.75 · 1 bedroom · 1 bed · 1 private bath</td><td>Private room</td><td>28806</td><td>65</td><td>0.32</td><td>353</td></tr><tr><td>Home in Asheville · ★4.89 · 1 bedroom · 1 bed · 1 private bath</td><td>Private room</td><td>28801</td><td>99</td><td>9.6</td><td>324</td></tr><tr><td>Home in Asheville · ★4.74 · 1 bedroom · 1 bed · 1 private bath</td><td>Private room</td><td>28803</td><td>46</td><td>7.98</td><td>27</td></tr><tr><td>Home in Asheville · ★4.75 · 1 bedroom · 1 bed · 1 private bath</td><td>Private room</td><td>28803</td><td>50</td><td>10.93</td><td>66</td></tr><tr><td>Cottage in Asheville · ★4.95 · 1 bedroom · 1 bed · 1 private bath</td><td>Private room</td><td>28806</td><td>59</td><td>1.86</td><td>314</td></tr><tr><td>Home in Asheville · ★4.12 · 1 bedroom · 1 bed · 1 shared bath</td><td>Private room</td><td>28806</td><td>76</td><td>0.49</td><td>0</td></tr><tr><td>Place to stay in Asheville · ★4.93 · 1 bedroom · 1 bed · 1 private bath</td><td>Private room</td><td>28804</td><td>186</td><td>2.01</td><td>336</td></tr><tr><td>Home in Asheville · ★4.93 · 1 bedroom · 1 bed · 1 private bath</td><td>Private room</td><td>28806</td><td>56</td><td>2.3</td><td>212</td></tr><tr><td>Home in Asheville · ★4.93 · 1 bedroom · 1 bed · 1 private bath</td><td>Private room</td><td>28804</td><td>72</td><td>4.21</td><td>0</td></tr><tr><td>Home in Asheville · ★4.88 · Studio · 1 bed · 1 shared bath</td><td>Private room</td><td>28805</td><td>54</td><td>0.31</td><td>363</td></tr><tr><td>Home in Asheville · ★4.77 · 1 bedroom · 1 bed · 1 shared bath</td><td>Private room</td><td>28805</td><td>58</td><td>0.53</td><td>353</td></tr><tr><td>Home in Asheville · ★4.97 · 1 bedroom · 1 bed · 1 private bath</td><td>Private room</td><td>28805</td><td>99</td><td>2.2</td><td>0</td></tr><tr><td>Guest suite in Candler · ★4.96 · 1 bedroom · 1 bed · 1 private bath</td><td>Private room</td><td>28715</td><td>83</td><td>1.22</td><td>356</td></tr><tr><td>Home in Asheville · ★4.74 · 1 bedroom · 2 beds · 1.5 shared baths</td><td>Private room</td><td>28803</td><td>70</td><td>1.33</td><td>30</td></tr><tr><td>Rental unit in Asheville · ★4.82 · 1 bedroom · 1 bed · 2 shared baths</td><td>Private room</td><td>28801</td><td>57</td><td>2.98</td><td>309</td></tr><tr><td>Bungalow in Asheville · ★4.92 · 1 bedroom · 1 bed · 1 private bath</td><td>Private room</td><td>28803</td><td>85</td><td>3.46</td><td>19</td></tr><tr><td>Rental unit in Asheville · ★4.80 · 1 bedroom · 1 bed · 2 shared baths</td><td>Private room</td><td>28801</td><td>87</td><td>3.69</td><td>325</td></tr><tr><td>Bungalow in Asheville · ★4.96 · 1 bedroom · 1 bed · 1 shared bath</td><td>Private room</td><td>28806</td><td>43</td><td>2.86</td><td>168</td></tr><tr><td>Home in Asheville · ★4.72 · 1 bedroom · 1 bed · 2.5 shared baths</td><td>Private room</td><td>28806</td><td>66</td><td>0.79</td><td>350</td></tr><tr><td>Home in Asheville · ★4.74 · 1 bedroom · 1 bed · 1 shared bath</td><td>Private room</td><td>28806</td><td>61</td><td>1.68</td><td>356</td></tr><tr><td>Rental unit in Asheville · ★4.82 · 1 bedroom · 1 bed · 2 shared baths</td><td>Private room</td><td>28801</td><td>95</td><td>3.71</td><td>321</td></tr><tr><td>Bungalow in Asheville · ★4.90 · 1 bedroom · 1 bed · 1 private bath</td><td>Private room</td><td>28806</td><td>125</td><td>1.17</td><td>364</td></tr><tr><td>Home in Arden · ★4.80 · 2 bedrooms · 2 beds · 1 private bath</td><td>Private room</td><td>28704</td><td>133</td><td>1.9</td><td>0</td></tr><tr><td>Home in Asheville · ★4.81 · 1 bedroom · 1 bed · 1 private bath</td><td>Private room</td><td>28804</td><td>70</td><td>0.59</td><td>88</td></tr><tr><td>Home in Asheville · ★4.81 · 1 bedroom · 1 bed · 1 shared bath</td><td>Private room</td><td>28805</td><td>60</td><td>0.23</td><td>344</td></tr><tr><td>Bungalow in Asheville · ★4.95 · 1 bedroom · 1 bed · 1 private bath</td><td>Private room</td><td>28806</td><td>87</td><td>0.61</td><td>119</td></tr><tr><td>Guest suite in Asheville · ★4.95 · 1 bedroom · 2 beds · 1 private bath</td><td>Private room</td><td>28806</td><td>73</td><td>2.46</td><td>53</td></tr><tr><td>Hotel in Fletcher · ★4.86 · 1 bedroom · 2 beds · 1 private bath</td><td>Private room</td><td>28732</td><td>371</td><td>0.62</td><td>365</td></tr><tr><td>Home in Asheville · ★4.98 · 1 bedroom · 1 bed · 1 private bath</td><td>Private room</td><td>28806</td><td>99</td><td>0.95</td><td>254</td></tr><tr><td>Home in Asheville · ★4.98 · 1 bedroom · 1 bed · 1 private bath</td><td>Private room</td><td>28801</td><td>126</td><td>3.58</td><td>174</td></tr><tr><td>Home in Asheville · ★4.83 · 1 bedroom · 1 bed · 1 shared bath</td><td>Private room</td><td>28803</td><td>43</td><td>1.33</td><td>0</td></tr><tr><td>Cabin in Arden · ★4.93 · 1 bedroom · 1 bed · 1 private bath</td><td>Private room</td><td>28704</td><td>77</td><td>0.89</td><td>365</td></tr><tr><td>Home in Asheville · ★4.95 · 1 bedroom · 1 bed · 1.5 baths</td><td>Private room</td><td>28803</td><td>130</td><td>1.26</td><td>365</td></tr><tr><td>Home in Asheville · ★4.93 · 2 bedrooms · 1 bed · 1 private bath</td><td>Private room</td><td>28803</td><td>78</td><td>0.96</td><td>65</td></tr><tr><td>Home in Asheville · ★4.95 · 1 bedroom · 1 bed · 1 private bath</td><td>Private room</td><td>28801</td><td>76</td><td>2.89</td><td>15</td></tr><tr><td>Home in Asheville · ★4.90 · 1 bedroom · 3 beds · 1 bath</td><td>Private room</td><td>28803</td><td>48</td><td>1.35</td><td>0</td></tr><tr><td>Home in Asheville · ★4.86 · 1 bedroom · 1 bed · 1 shared bath</td><td>Private room</td><td>28806</td><td>83</td><td>0.5</td><td>0</td></tr><tr><td>Guest suite in Asheville · ★4.58 · 1 bedroom · 4 beds · 1.5 baths</td><td>Private room</td><td>28803</td><td>69</td><td>1.23</td><td>189</td></tr><tr><td>Home in Asheville · ★4.20 · 2 bedrooms · 1 bed · 1 shared bath</td><td>Private room</td><td>28804</td><td>40</td><td>0.54</td><td>0</td></tr><tr><td>Home in Asheville · ★5.0 · 1 bedroom · 1 bed · 1 shared bath</td><td>Private room</td><td>28804</td><td>119</td><td>0.13</td><td>177</td></tr><tr><td>Home in Asheville · ★4.99 · 1 bedroom · 1 bed · 1 private bath</td><td>Private room</td><td>28806</td><td>72</td><td>1.73</td><td>91</td></tr><tr><td>Home in Asheville · ★4.66 · 1 bedroom · 1 bed · 1 shared bath</td><td>Private room</td><td>28806</td><td>80</td><td>0.75</td><td>0</td></tr><tr><td>Home in Asheville · ★4.97 · 1 bedroom · 1 bed · 1 private bath</td><td>Private room</td><td>28803</td><td>105</td><td>1.72</td><td>90</td></tr><tr><td>Rental unit in Asheville · ★4.74 · 1 bedroom · 1 bed · 1 private bath</td><td>Private room</td><td>28801</td><td>108</td><td>1.0</td><td>318</td></tr><tr><td>Bungalow in Asheville · ★4.91 · 1 bedroom · 1 bed · 1 private bath</td><td>Private room</td><td>28803</td><td>60</td><td>2.41</td><td>1</td></tr><tr><td>Home in Arden · ★4.91 · 1 bedroom · 1 bed · 1 shared bath</td><td>Private room</td><td>28704</td><td>72</td><td>4.86</td><td>0</td></tr><tr><td>Home in Asheville · ★4.96 · 2 bedrooms · 2 beds · 1 shared bath</td><td>Private room</td><td>28806</td><td>155</td><td>0.95</td><td>55</td></tr><tr><td>Home in Asheville · ★4.85 · 1 bedroom · 1 bed · 1 shared bath</td><td>Private room</td><td>28806</td><td>62</td><td>2.0</td><td>363</td></tr><tr><td>Bungalow in Asheville · ★4.92 · 1 bedroom · 1 bed · 1 shared bath</td><td>Private room</td><td>28801</td><td>53</td><td>2.98</td><td>72</td></tr><tr><td>Place to stay in Asheville · ★4.47 · 1 bedroom · 1 bed · 1 bath</td><td>Private room</td><td>28801</td><td>114</td><td>2.37</td><td>278</td></tr><tr><td>Home in Asheville · ★4.86 · 1 bedroom · 2 beds · 1 shared bath</td><td>Private room</td><td>28805</td><td>47</td><td>1.74</td><td>0</td></tr><tr><td>Home in Asheville · ★4.93 · 1 bedroom · 1 bed · 1 shared bath</td><td>Private room</td><td>28806</td><td>97</td><td>0.17</td><td>0</td></tr><tr><td>Home in Asheville · ★4.95 · 1 bedroom · 1 bed · 1 private bath</td><td>Private room</td><td>28803</td><td>105</td><td>0.77</td><td>90</td></tr><tr><td>Cottage in Asheville · ★4.96 · 1 bedroom · 1 bed · 1 shared bath</td><td>Private room</td><td>28803</td><td>59</td><td>1.74</td><td>117</td></tr><tr><td>Bungalow in Asheville · ★4.89 · 1 bedroom · 1 bed · 1 bath</td><td>Private room</td><td>28805</td><td>40</td><td>0.23</td><td>244</td></tr><tr><td>Rental unit in Asheville · ★4.89 · 1 bedroom · 1 bed · 2 baths</td><td>Private room</td><td>28803</td><td>100</td><td>0.46</td><td>0</td></tr><tr><td>Home in Asheville · ★4.96 · 1 bedroom · 1 bed · 1 private bath</td><td>Private room</td><td>28801</td><td>138</td><td>5.44</td><td>76</td></tr><tr><td>Home in Arden · ★4.89 · 3 bedrooms · 3 beds · 2 baths</td><td>Private room</td><td>28704</td><td>88</td><td>0.48</td><td>0</td></tr><tr><td>Rental unit in Asheville · ★4.97 · 1 bedroom · 1 bed · 1 private bath</td><td>Private room</td><td>28806</td><td>97</td><td>0.39</td><td>166</td></tr><tr><td>Home in Asheville · ★4.87 · 1 bedroom · 1 bed · 1 shared bath</td><td>Private room</td><td>28806</td><td>58</td><td>2.43</td><td>161</td></tr><tr><td>Home in Asheville · ★4.97 · 1 bedroom · 1 bed · 1 private bath</td><td>Private room</td><td>28801</td><td>90</td><td>1.51</td><td>0</td></tr><tr><td>Home in Fletcher · ★4.79 · 1 bedroom · 2 beds · 1 private bath</td><td>Private room</td><td>28732</td><td>80</td><td>1.48</td><td>331</td></tr><tr><td>Bungalow in Asheville · ★4.87 · 1 bedroom · 1 bed · 1 shared bath</td><td>Private room</td><td>28806</td><td>53</td><td>2.79</td><td>68</td></tr><tr><td>Guest suite in Asheville · ★4.97 · 1 bedroom · 1 bed · 1 private bath</td><td>Private room</td><td>28801</td><td>78</td><td>8.72</td><td>29</td></tr><tr><td>Home in Asheville · ★4.95 · 1 bedroom · 1 bed · 1 private bath</td><td>Private room</td><td>28805</td><td>95</td><td>2.3</td><td>24</td></tr><tr><td>Home in Asheville · ★4.90 · 1 bedroom · 5 beds · 1 shared bath</td><td>Private room</td><td>28804</td><td>106</td><td>2.7</td><td>144</td></tr><tr><td>Home in Asheville · ★4.94 · 1 bedroom · 1 bed · 1 private bath</td><td>Private room</td><td>28804</td><td>66</td><td>4.16</td><td>38</td></tr><tr><td>Bed and breakfast in Asheville · 1 bedroom · 1 bed · 1 private bath</td><td>Private room</td><td>28801</td><td>150</td><td>0.01</td><td>70</td></tr><tr><td>Home in Asheville · ★4.82 · 1 bedroom · 1 bed · 1 private bath</td><td>Private room</td><td>28803</td><td>89</td><td>3.3</td><td>70</td></tr><tr><td>Home in Asheville · ★4.94 · 1 bedroom · 1 bed · 1 private bath</td><td>Private room</td><td>28801</td><td>121</td><td>4.75</td><td>68</td></tr><tr><td>Home in Asheville · ★4.97 · 1 bedroom · 1 bed · 1 private bath</td><td>Private room</td><td>28801</td><td>156</td><td>4.32</td><td>80</td></tr><tr><td>Home in Asheville · Studio · 2 beds · 0 shared baths</td><td>Private room</td><td>28804</td><td>75</td><td>0.03</td><td>179</td></tr><tr><td>Bungalow in Asheville · ★4.96 · 1 bedroom · 1 bed · 1 shared bath</td><td>Private room</td><td>28801</td><td>117</td><td>0.67</td><td>154</td></tr><tr><td>Place to stay in Asheville · ★4.56 · 1 bedroom · 1 bed · 1 private bath</td><td>Private room</td><td>28801</td><td>114</td><td>0.34</td><td>287</td></tr><tr><td>Place to stay in Asheville · ★4.53 · 1 bedroom · 1 bed · 1 bath</td><td>Private room</td><td>28801</td><td>114</td><td>0.76</td><td>287</td></tr><tr><td>Place to stay in Asheville · ★4.45 · 1 bedroom · 1 bed · 1 bath</td><td>Private room</td><td>28801</td><td>114</td><td>0.3</td><td>288</td></tr><tr><td>Place to stay in Asheville · ★4.65 · 1 bedroom · 1 bed · 1 bath</td><td>Private room</td><td>28801</td><td>114</td><td>0.84</td><td>286</td></tr><tr><td>Place to stay in Asheville · ★4.59 · 1 bedroom · 1 bed · 1 bath</td><td>Private room</td><td>28801</td><td>114</td><td>1.45</td><td>288</td></tr><tr><td>Home in Asheville · ★4.95 · 1 bedroom · 1 bed · 1 private bath</td><td>Private room</td><td>28806</td><td>76</td><td>2.33</td><td>86</td></tr><tr><td>Place to stay in Asheville · ★4.54 · 1 bedroom · 2 beds · 1 bath</td><td>Private room</td><td>28801</td><td>114</td><td>1.08</td><td>283</td></tr><tr><td>Place to stay in Asheville · ★4.56 · 1 bedroom · 2 beds · 1 bath</td><td>Private room</td><td>28801</td><td>114</td><td>2.4</td><td>274</td></tr><tr><td>Place to stay in Asheville · ★4.49 · 1 bedroom · 2 beds · 1 bath</td><td>Private room</td><td>28801</td><td>114</td><td>1.45</td><td>279</td></tr><tr><td>Home in Asheville · ★4.95 · 2 bedrooms · 1 bed · 1 private bath</td><td>Private room</td><td>28801</td><td>106</td><td>1.57</td><td>360</td></tr><tr><td>Home in Asheville · ★4.96 · 2 bedrooms · 2 beds · 1 private bath</td><td>Private room</td><td>28801</td><td>106</td><td>1.46</td><td>362</td></tr><tr><td>Home in Asheville · ★4.99 · 1 bedroom · 1 bed · 1 private bath</td><td>Private room</td><td>28805</td><td>79</td><td>2.2</td><td>245</td></tr><tr><td>Farm stay in Asheville · ★5.0 · 2 bedrooms · 1 bed · 1 private bath</td><td>Private room</td><td>28803</td><td>79</td><td>1.88</td><td>0</td></tr><tr><td>Home in Candler · ★4.93 · 1 bedroom · 1 bed · 1 shared bath</td><td>Private room</td><td>28715</td><td>56</td><td>1.46</td><td>290</td></tr><tr><td>Home in Asheville · ★5.0 · 1 bedroom · 1 bed · 1 private bath</td><td>Private room</td><td>28803</td><td>78</td><td>0.89</td><td>336</td></tr><tr><td>Home in Asheville · ★4.93 · 1 bedroom · 1 bed · 1 private bath</td><td>Private room</td><td>28806</td><td>56</td><td>2.39</td><td>15</td></tr><tr><td>Home in Asheville · ★4.71 · 1 bedroom · 1 bed · 1 shared bath</td><td>Private room</td><td>28806</td><td>57</td><td>0.45</td><td>310</td></tr><tr><td>Home in Asheville · ★4.90 · 1 bedroom · 1 bed · 1 private bath</td><td>Private room</td><td>28806</td><td>80</td><td>1.32</td><td>0</td></tr><tr><td>Home in Asheville · ★4.89 · 1 bedroom · 1 bed · 1 shared bath</td><td>Private room</td><td>28806</td><td>70</td><td>3.08</td><td>0</td></tr><tr><td>Home in Asheville · ★4.87 · 1 bedroom · 1 bed · 1 shared bath</td><td>Private room</td><td>28806</td><td>26</td><td>1.78</td><td>0</td></tr><tr><td>Home in Asheville · ★4.89 · 1 bedroom · 2 beds · 1 private bath</td><td>Private room</td><td>28805</td><td>114</td><td>1.48</td><td>87</td></tr><tr><td>Bungalow in Woodfin · 3 bedrooms · 1 bed · 1.5 shared baths</td><td>Private room</td><td>28804</td><td>250</td><td>0.02</td><td>0</td></tr><tr><td>Home in Asheville · ★5.0 · 1 bedroom · 1 bed · 1 private bath</td><td>Private room</td><td>28801</td><td>34</td><td>0.27</td><td>102</td></tr><tr><td>Bungalow in Asheville · ★4.99 · 1 bedroom · 1 bed · 1 shared bath</td><td>Private room</td><td>28804</td><td>65</td><td>5.4</td><td>1</td></tr><tr><td>Bed and breakfast in Asheville · 1 bedroom · 1 bed · 1 private bath</td><td>Private room</td><td>28801</td><td>229</td><td>0.06</td><td>120</td></tr><tr><td>Bed and breakfast in Asheville · 1 bedroom · 2 beds · 1 private bath</td><td>Private room</td><td>28801</td><td>342</td><td>0.04</td><td>80</td></tr><tr><td>Castle in Asheville · ★4.96 · 1 bedroom · 1 bed · 2 shared baths</td><td>Private room</td><td>28801</td><td>144</td><td>2.06</td><td>183</td></tr><tr><td>Home in Asheville · ★4.82 · 1 bedroom · 1 bed · 1 shared bath</td><td>Private room</td><td>28803</td><td>58</td><td>10.15</td><td>157</td></tr><tr><td>Home in Asheville · ★4.87 · 1 bedroom · 1 bed · 1 shared bath</td><td>Private room</td><td>28803</td><td>44</td><td>2.27</td><td>324</td></tr><tr><td>Guest suite in Asheville · ★5.0 · 1 bedroom · 1 bed · 1 shared bath</td><td>Private room</td><td>28801</td><td>140</td><td>0.19</td><td>23</td></tr><tr><td>Bed and breakfast in Asheville · 1 bedroom · 1 bed · 1 private bath</td><td>Private room</td><td>28801</td><td>328</td><td>null</td><td>96</td></tr><tr><td>Bed and breakfast in Asheville · 1 bedroom · 1 bed · 1 private bath</td><td>Private room</td><td>28801</td><td>230</td><td>0.02</td><td>95</td></tr><tr><td>Bed and breakfast in Asheville · 1 bedroom · 1 bed · 1 private bath</td><td>Private room</td><td>28801</td><td>231</td><td>0.06</td><td>91</td></tr><tr><td>Home in Asheville · ★4.84 · 1 bedroom · 1 bed · 1 private bath</td><td>Private room</td><td>28803</td><td>85</td><td>2.59</td><td>167</td></tr><tr><td>Home in Asheville · ★4.92 · 1 bedroom · 1 bed · 1 private bath</td><td>Private room</td><td>28806</td><td>70</td><td>1.41</td><td>0</td></tr><tr><td>Bungalow in Asheville · ★4.87 · 1 bedroom · 1 bed · 1 private bath</td><td>Private room</td><td>28806</td><td>43</td><td>2.48</td><td>21</td></tr><tr><td>Home in Asheville · ★4.95 · 1 bedroom · 1 bed · 1 shared bath</td><td>Private room</td><td>28804</td><td>75</td><td>4.75</td><td>151</td></tr><tr><td>Farm stay in Asheville · ★4.96 · 1 bedroom · 1 bed · 1.5 baths</td><td>Private room</td><td>28805</td><td>91</td><td>1.47</td><td>135</td></tr><tr><td>Home in Asheville · ★4.94 · 1 bedroom · 1 bed · 1 private bath</td><td>Private room</td><td>28801</td><td>85</td><td>2.18</td><td>49</td></tr><tr><td>Home in Asheville · ★4.78 · 1 bedroom · 1 bed · 1 private bath</td><td>Private room</td><td>28801</td><td>86</td><td>3.69</td><td>173</td></tr><tr><td>Townhouse in Arden · ★4.96 · 1 bedroom · 1 bed · 1 private bath</td><td>Private room</td><td>28704</td><td>61</td><td>2.53</td><td>0</td></tr><tr><td>Rental unit in Asheville · ★4.86 · 1 bedroom · 1 bed · 2 shared baths</td><td>Private room</td><td>28801</td><td>69</td><td>1.37</td><td>307</td></tr><tr><td>Home in Asheville · ★4.88 · 1 bedroom · 1 bed · 1 shared bath</td><td>Private room</td><td>28805</td><td>44</td><td>1.65</td><td>0</td></tr><tr><td>Bed and breakfast in Asheville · ★4.95 · 1 bedroom · 1 bed · 1 shared bath</td><td>Private room</td><td>28801</td><td>375</td><td>0.63</td><td>215</td></tr><tr><td>Home in Asheville · ★4.93 · 1 bedroom · 1 bed · 1 private bath</td><td>Private room</td><td>28803</td><td>76</td><td>0.9</td><td>260</td></tr><tr><td>Guest suite in Arden · ★5.0 · 1 bedroom · 1 bed · 1 private bath</td><td>Private room</td><td>28704</td><td>90</td><td>0.79</td><td>341</td></tr><tr><td>Home in Asheville · ★4.80 · 1 bedroom · 1 bed · 1 private bath</td><td>Private room</td><td>28806</td><td>65</td><td>0.78</td><td>0</td></tr><tr><td>Home in Asheville · ★4.98 · 2 bedrooms · 3 beds · 1 shared bath</td><td>Private room</td><td>28801</td><td>95</td><td>2.09</td><td>86</td></tr><tr><td>Rental unit in Asheville · ★4.84 · 1 bedroom · 1 bed · 2 shared baths</td><td>Private room</td><td>28801</td><td>57</td><td>2.33</td><td>315</td></tr><tr><td>Home in Asheville · ★4.82 · 1 bedroom · 1 bed · 1 private bath</td><td>Private room</td><td>28803</td><td>69</td><td>14.79</td><td>158</td></tr><tr><td>Home in Asheville · ★4.97 · 1 bedroom · 1 bed · 1 private bath</td><td>Private room</td><td>28806</td><td>107</td><td>1.99</td><td>53</td></tr><tr><td>Home in Asheville · ★4.95 · 1 bedroom · 1 bed · 1 private bath</td><td>Private room</td><td>28805</td><td>89</td><td>0.32</td><td>82</td></tr><tr><td>Home in Asheville · ★4.86 · 1 bedroom · 1 bed · 1 private bath</td><td>Private room</td><td>28806</td><td>65</td><td>2.33</td><td>165</td></tr><tr><td>Home in Asheville · ★5.0 · 1 bedroom · 1 bed · 1 private bath</td><td>Private room</td><td>28801</td><td>129</td><td>4.41</td><td>73</td></tr><tr><td>Bed and breakfast in Asheville · ★4.88 · 1 bedroom · 2 beds · 1 private bath</td><td>Private room</td><td>28801</td><td>229</td><td>0.2</td><td>328</td></tr><tr><td>Home in Asheville · ★4.90 · 1 bedroom · 1 bed · 1 shared bath</td><td>Private room</td><td>28801</td><td>70</td><td>6.05</td><td>141</td></tr><tr><td>Home in Asheville · ★5.0 · 1 bedroom · 1 bed · 1 private bath</td><td>Private room</td><td>28805</td><td>175</td><td>0.06</td><td>0</td></tr><tr><td>Home in Asheville · ★4.90 · 1 bedroom · 1 bed · 1 private bath</td><td>Private room</td><td>28806</td><td>63</td><td>5.03</td><td>224</td></tr><tr><td>Home in Asheville · ★5.0 · 1 bedroom · 2 beds · 1 private bath</td><td>Private room</td><td>28805</td><td>200</td><td>0.15</td><td>0</td></tr><tr><td>Guest suite in Asheville · ★4.93 · 1 bedroom · 1 bed · 1 shared bath</td><td>Private room</td><td>28805</td><td>89</td><td>1.87</td><td>358</td></tr><tr><td>Home in Asheville · ★4.88 · 1 bedroom · 1 bed · 1 shared bath</td><td>Private room</td><td>28801</td><td>56</td><td>6.21</td><td>153</td></tr><tr><td>Bed and breakfast in Asheville · ★5.0 · 1 bedroom · 1 bed · 1 private bath</td><td>Private room</td><td>28801</td><td>279</td><td>0.23</td><td>151</td></tr><tr><td>Rental unit in Asheville · ★4.83 · 1 bedroom · 1 bed · 2 shared baths</td><td>Private room</td><td>28801</td><td>97</td><td>1.7</td><td>337</td></tr><tr><td>Home in Fletcher · ★4.97 · 1 bedroom · 1 bed · 1 private bath</td><td>Private room</td><td>28732</td><td>44</td><td>3.5</td><td>32</td></tr><tr><td>Home in Asheville · ★4.79 · 1 bedroom · 1 bed · 1 shared bath</td><td>Private room</td><td>28806</td><td>45</td><td>1.14</td><td>0</td></tr><tr><td>Home in Asheville · ★4.99 · Studio · 1 bed · 1 private bath</td><td>Private room</td><td>28806</td><td>120</td><td>1.59</td><td>168</td></tr><tr><td>Home in Asheville · ★4.88 · 1 bedroom · 1 bed · 1 private bath</td><td>Private room</td><td>28801</td><td>75</td><td>1.31</td><td>0</td></tr><tr><td>Home in Candler · ★4.87 · 1 bedroom · 1 bed · 1 shared bath</td><td>Private room</td><td>28715</td><td>45</td><td>2.27</td><td>336</td></tr><tr><td>Home in Candler · ★4.87 · 1 bedroom · 1 bed · 1 shared bath</td><td>Private room</td><td>28715</td><td>59</td><td>1.99</td><td>34</td></tr><tr><td>Home in Asheville · 1 bedroom · 1 bed · 1 shared bath</td><td>Private room</td><td>28805</td><td>155</td><td>null</td><td>344</td></tr><tr><td>Home in Asheville · ★4.89 · 1 bedroom · 1 bed · 1 shared bath</td><td>Private room</td><td>28801</td><td>69</td><td>3.51</td><td>23</td></tr><tr><td>Home in Asheville · ★4.91 · 1 bedroom · 1 bed · 1 shared bath</td><td>Private room</td><td>28806</td><td>48</td><td>7.73</td><td>353</td></tr><tr><td>Home in Asheville · ★4.67 · 1 bedroom · 1 bed · 1 private bath</td><td>Private room</td><td>28806</td><td>125</td><td>1.32</td><td>365</td></tr><tr><td>Home in Asheville · ★4.90 · 1 bedroom · 1 bed · 1 shared bath</td><td>Private room</td><td>28806</td><td>47</td><td>8.22</td><td>358</td></tr><tr><td>Guest suite in Asheville · 1 bedroom · 1 bed · 1 private bath</td><td>Private room</td><td>28805</td><td>700</td><td>null</td><td>90</td></tr><tr><td>Home in Asheville · ★4.86 · 1 bedroom · 1 bed · 1 shared bath</td><td>Private room</td><td>28801</td><td>62</td><td>4.18</td><td>69</td></tr><tr><td>Home in Asheville · ★4.94 · 1 bedroom · 1 bed · 1 private bath</td><td>Private room</td><td>28803</td><td>68</td><td>0.93</td><td>0</td></tr><tr><td>Home in Asheville · ★4.88 · 1 bedroom · 3 beds · 1 private bath</td><td>Private room</td><td>28806</td><td>72</td><td>4.89</td><td>57</td></tr><tr><td>Home in Asheville · ★4.94 · 1 bedroom · 1 bed · 1 private bath</td><td>Private room</td><td>28806</td><td>95</td><td>0.93</td><td>339</td></tr><tr><td>Condo in Asheville · ★4.85 · 1 bedroom · 1 bed · 1 shared bath</td><td>Private room</td><td>28803</td><td>80</td><td>0.48</td><td>5</td></tr><tr><td>Guest suite in Asheville · ★5.0 · 2 bedrooms · 2 beds · 1 shared bath</td><td>Private room</td><td>28801</td><td>225</td><td>0.77</td><td>362</td></tr><tr><td>Home in Asheville · ★4.89 · 1 bedroom · 1 bed · 1 private bath</td><td>Private room</td><td>28801</td><td>60</td><td>3.84</td><td>67</td></tr><tr><td>Home in Asheville · ★5.0 · 1 bedroom · 1 bed · 1 private bath</td><td>Private room</td><td>28803</td><td>85</td><td>0.13</td><td>140</td></tr><tr><td>Home in Asheville · ★4.97 · 1 bedroom · 1 bed · 1 private bath</td><td>Private room</td><td>28801</td><td>86</td><td>0.74</td><td>0</td></tr><tr><td>Home in Asheville · ★4.96 · 18 bedrooms · 1 bed · 1 private bath</td><td>Private room</td><td>28801</td><td>106</td><td>0.51</td><td>362</td></tr><tr><td>Home in Asheville · ★5.0 · 1 bedroom · 1 bed · 1.5 baths</td><td>Private room</td><td>28806</td><td>77</td><td>0.82</td><td>136</td></tr><tr><td>Home in Asheville · ★4.90 · 1 bedroom · 2 beds · 1 private bath</td><td>Private room</td><td>28801</td><td>67</td><td>3.72</td><td>44</td></tr><tr><td>Guest suite in Asheville · ★4.97 · 1 bedroom · 1 bed · 1 private bath</td><td>Private room</td><td>28806</td><td>99</td><td>3.26</td><td>31</td></tr><tr><td>Townhouse in Asheville · ★5.0 · 1 bedroom · 2 beds · 1 private bath</td><td>Private room</td><td>28805</td><td>150</td><td>0.09</td><td>178</td></tr><tr><td>Home in Asheville · ★5.0 · 1 bedroom · 1 bed · 1 private bath</td><td>Private room</td><td>28803</td><td>136</td><td>0.11</td><td>253</td></tr><tr><td>Guest suite in Asheville · ★4.96 · 1 bedroom · 1 bed · 1 private bath</td><td>Private room</td><td>28801</td><td>295</td><td>1.41</td><td>168</td></tr><tr><td>Treehouse in Asheville · ★4.79 · 1 bedroom · 1 private bath</td><td>Private room</td><td>28806</td><td>28</td><td>2.22</td><td>175</td></tr><tr><td>Home in Asheville · ★4.99 · 1 bedroom · 1 bed · 1 private bath</td><td>Private room</td><td>28805</td><td>46</td><td>1.53</td><td>130</td></tr><tr><td>Home in Arden · ★4.89 · 1 bedroom · 1 bed · 1.5 baths</td><td>Private room</td><td>28704</td><td>44</td><td>0.39</td><td>16</td></tr><tr><td>Home in Asheville · ★5.0 · 1 bedroom · 1 bed · 1 private bath</td><td>Private room</td><td>28803</td><td>90</td><td>0.09</td><td>47</td></tr><tr><td>Boutique hotel in Asheville · 1 bedroom · 1 bed · 1 bath</td><td>Private room</td><td>28801</td><td>999</td><td>null</td><td>0</td></tr><tr><td>Home in Asheville · ★4.92 · 1 bedroom · 1 bed · 1 shared bath</td><td>Private room</td><td>28803</td><td>88</td><td>1.25</td><td>199</td></tr><tr><td>Home in Asheville · ★4.81 · 1 bedroom · 1 bed · 1 shared bath</td><td>Private room</td><td>28806</td><td>81</td><td>0.54</td><td>131</td></tr><tr><td>Boutique hotel in Asheville · 1 bedroom · 1 bed · 1 bath</td><td>Private room</td><td>28801</td><td>999</td><td>null</td><td>0</td></tr><tr><td>Boutique hotel in Asheville · 1 bedroom · 1 bed · 1 bath</td><td>Private room</td><td>28801</td><td>999</td><td>null</td><td>0</td></tr><tr><td>Boutique hotel in Asheville · 1 bedroom · 1 bed · 1 bath</td><td>Private room</td><td>28801</td><td>999</td><td>0.04</td><td>0</td></tr><tr><td>Boutique hotel in Asheville · 1 bedroom · 1 bed · 1 bath</td><td>Private room</td><td>28801</td><td>999</td><td>null</td><td>0</td></tr><tr><td>Boutique hotel in Asheville · 1 bedroom · 1 bed · 1 bath</td><td>Private room</td><td>28801</td><td>999</td><td>null</td><td>0</td></tr><tr><td>Boutique hotel in Asheville · 1 bedroom · 1 bed · 1 bath</td><td>Private room</td><td>28801</td><td>999</td><td>null</td><td>0</td></tr><tr><td>Boutique hotel in Asheville · 1 bedroom · 1 bed · 1 bath</td><td>Private room</td><td>28801</td><td>999</td><td>null</td><td>0</td></tr><tr><td>Home in Asheville · 1 bedroom · 2 beds · 1 shared bath</td><td>Private room</td><td>28806</td><td>54</td><td>2.0</td><td>316</td></tr><tr><td>Home in Asheville · ★4.86 · 1 bedroom · 1 bed · 1 private bath</td><td>Private room</td><td>28804</td><td>66</td><td>0.32</td><td>187</td></tr><tr><td>Guest suite in Asheville · ★4.98 · 1 bedroom · 1 bed · 1 private bath</td><td>Private room</td><td>28806</td><td>79</td><td>4.62</td><td>141</td></tr><tr><td>Guest suite in Asheville · ★5.0 · 1 bedroom · 2 beds · 1 private bath</td><td>Private room</td><td>28801</td><td>249</td><td>0.23</td><td>304</td></tr><tr><td>Home in Asheville · ★4.97 · 1 bedroom · 1 bed · 1 shared bath</td><td>Private room</td><td>28806</td><td>61</td><td>1.28</td><td>89</td></tr><tr><td>Home in Asheville · ★5.0 · 1 bedroom · 1 bed · 1 shared bath</td><td>Private room</td><td>28803</td><td>41</td><td>0.45</td><td>65</td></tr><tr><td>Home in Asheville · 1 bedroom · 1 bed · 1 private bath</td><td>Private room</td><td>28803</td><td>37</td><td>0.05</td><td>281</td></tr><tr><td>Home in Asheville · ★4.81 · 1 bedroom · 1 bed · 1 shared bath</td><td>Private room</td><td>28801</td><td>65</td><td>2.05</td><td>82</td></tr><tr><td>Home in Asheville · ★4.88 · 1 bedroom · 1 bed · 1 private bath</td><td>Private room</td><td>28803</td><td>42</td><td>1.46</td><td>144</td></tr><tr><td>Home in Woodfin · ★4.91 · 1 bedroom · 1 bed · 1 private bath</td><td>Private room</td><td>28804</td><td>52</td><td>3.43</td><td>124</td></tr><tr><td>Home in Asheville · ★4.95 · 1 bedroom · 1 bed · 1 private bath</td><td>Private room</td><td>28803</td><td>156</td><td>0.48</td><td>89</td></tr><tr><td>Home in Asheville · ★4.94 · 1 bedroom · 1 bed · 1 shared bath</td><td>Private room</td><td>28804</td><td>49</td><td>0.75</td><td>357</td></tr><tr><td>Townhouse in Asheville · ★4.95 · 1 bedroom · 1 bed · 1.5 baths</td><td>Private room</td><td>28806</td><td>55</td><td>4.53</td><td>76</td></tr><tr><td>Home in Asheville · ★4.88 · 1 bedroom · 1 bed · 1 private bath</td><td>Private room</td><td>28803</td><td>47</td><td>8.65</td><td>27</td></tr><tr><td>Home in Asheville · ★4.93 · 1 bedroom · 1 bed · 1 private bath</td><td>Private room</td><td>28806</td><td>65</td><td>0.96</td><td>46</td></tr><tr><td>Home in Asheville · ★4.97 · 1 bedroom · 1 bed · 1 private bath</td><td>Private room</td><td>28806</td><td>140</td><td>2.43</td><td>63</td></tr><tr><td>Guest suite in Arden · ★5.0 · 1 bedroom · 2 beds · 1.5 baths</td><td>Private room</td><td>28704</td><td>77</td><td>3.36</td><td>244</td></tr><tr><td>Home in Asheville · ★4.67 · 1 bedroom · 1 bed · 1 shared bath</td><td>Private room</td><td>28801</td><td>50</td><td>0.68</td><td>0</td></tr><tr><td>Hostel in Asheville · ★4.86 · 1 bedroom · 1 bed · 1 shared bath</td><td>Private room</td><td>28801</td><td>113</td><td>0.65</td><td>155</td></tr><tr><td>Hostel in Asheville · ★4.77 · 1 bedroom · 1 bed · 1 shared bath</td><td>Private room</td><td>28801</td><td>81</td><td>3.67</td><td>154</td></tr><tr><td>Home in Asheville · ★4.89 · 1 bedroom · 1 bed · 1 private bath</td><td>Private room</td><td>28805</td><td>47</td><td>6.25</td><td>71</td></tr><tr><td>Guest suite in Asheville · ★4.99 · 1 bedroom · 2 beds · 1 private bath</td><td>Private room</td><td>28806</td><td>101</td><td>2.07</td><td>72</td></tr><tr><td>Home in Asheville · ★4.76 · 1 bedroom · 1 bed · 1 private bath</td><td>Private room</td><td>28806</td><td>47</td><td>1.09</td><td>186</td></tr><tr><td>Guesthouse in Asheville · ★5.0 · Studio · 1 bed · 1 private bath</td><td>Private room</td><td>28806</td><td>154</td><td>1.49</td><td>73</td></tr><tr><td>Bungalow in Asheville · ★4.91 · 1 bedroom · 1 bed · 1 shared bath</td><td>Private room</td><td>28803</td><td>44</td><td>2.75</td><td>207</td></tr><tr><td>Home in Asheville · ★4.76 · 2 bedrooms · 2 beds · 1 private bath</td><td>Private room</td><td>28805</td><td>76</td><td>1.43</td><td>72</td></tr><tr><td>Home in Asheville · ★5.0 · 1 bedroom · 2 beds · 1.5 baths</td><td>Private room</td><td>28806</td><td>93</td><td>0.27</td><td>0</td></tr><tr><td>Bungalow in Asheville · ★4.92 · 1 bedroom · 1 bed · 1 shared bath</td><td>Private room</td><td>28803</td><td>43</td><td>4.16</td><td>315</td></tr><tr><td>Home in Asheville · ★5.0 · 1 bedroom · 2 beds · 1 private bath</td><td>Private room</td><td>28801</td><td>249</td><td>0.22</td><td>338</td></tr><tr><td>Home in Asheville · ★4.98 · 1 bedroom · 1 private bath</td><td>Private room</td><td>28806</td><td>80</td><td>2.03</td><td>32</td></tr><tr><td>Treehouse in Asheville · ★4.71 · 1 bedroom · 1 bed · 1 shared bath</td><td>Private room</td><td>28806</td><td>27</td><td>2.46</td><td>357</td></tr><tr><td>Bed and breakfast in Asheville · ★5.0 · 1 bedroom · 1 bed · 1 bath</td><td>Private room</td><td>28801</td><td>226</td><td>0.19</td><td>171</td></tr><tr><td>Bed and breakfast in Asheville · 1 bedroom · 1 bed · 1 bath</td><td>Private room</td><td>28801</td><td>322</td><td>0.06</td><td>157</td></tr><tr><td>Treehouse in Asheville · ★4.87 · 1 bedroom · 1 bed · 1 shared bath</td><td>Private room</td><td>28806</td><td>29</td><td>1.25</td><td>359</td></tr><tr><td>Home in Asheville · ★4.81 · 1 bedroom · 1 bed · 1 private bath</td><td>Private room</td><td>28801</td><td>110</td><td>1.64</td><td>346</td></tr><tr><td>Bed and breakfast in Asheville · 10 bedrooms · 1 bed · 1 private bath</td><td>Private room</td><td>28801</td><td>330</td><td>0.03</td><td>306</td></tr><tr><td>Bed and breakfast in Asheville · 1 bedroom · 1 bed · 1 private bath</td><td>Private room</td><td>28801</td><td>364</td><td>0.07</td><td>308</td></tr><tr><td>Bed and breakfast in Asheville · 1 bedroom · 1 bed · 1 private bath</td><td>Private room</td><td>28801</td><td>341</td><td>0.03</td><td>300</td></tr><tr><td>Bed and breakfast in Asheville · 1 bedroom · 1 bed · 1 private bath</td><td>Private room</td><td>28801</td><td>330</td><td>null</td><td>300</td></tr><tr><td>Home in Asheville · ★4.98 · 1 bedroom · 1 bed · 1.5 baths</td><td>Private room</td><td>28806</td><td>110</td><td>1.26</td><td>325</td></tr><tr><td>Home in Asheville · ★5.0 · 1 bedroom · 1 bed · 1.5 baths</td><td>Private room</td><td>28804</td><td>110</td><td>0.79</td><td>323</td></tr><tr><td>Bed and breakfast in Asheville · ★5.0 · 1 bedroom · 1 bed · 1 bath</td><td>Private room</td><td>28801</td><td>296</td><td>0.09</td><td>160</td></tr><tr><td>Bed and breakfast in Asheville · 1 bedroom · 1 bed · 1 bath</td><td>Private room</td><td>28801</td><td>235</td><td>null</td><td>144</td></tr><tr><td>Home in Asheville · ★4.94 · Studio · 1 bed · 1 private bath</td><td>Private room</td><td>28804</td><td>150</td><td>1.3</td><td>86</td></tr><tr><td>Bed and breakfast in Asheville · 1 bedroom · 1 bed · 1 bath</td><td>Private room</td><td>28801</td><td>306</td><td>null</td><td>300</td></tr><tr><td>Bed and breakfast in Asheville · 1 bedroom · 1 bed · 1 private bath</td><td>Private room</td><td>28801</td><td>298</td><td>0.03</td><td>324</td></tr><tr><td>Home in Asheville · ★4.81 · 1 bedroom · 1 bed · 1.5 shared baths</td><td>Private room</td><td>28801</td><td>94</td><td>2.76</td><td>90</td></tr><tr><td>Home in Asheville · ★4.80 · 1 bedroom · 1 bed · 1.5 shared baths</td><td>Private room</td><td>28801</td><td>48</td><td>2.38</td><td>90</td></tr><tr><td>Guest suite in Asheville · ★4.96 · 1 bedroom · 2 beds · 1 private bath</td><td>Private room</td><td>28806</td><td>98</td><td>2.38</td><td>26</td></tr><tr><td>Home in Asheville · ★4.85 · 1 bedroom · 1 bed · 1.5 shared baths</td><td>Private room</td><td>28801</td><td>43</td><td>2.35</td><td>90</td></tr><tr><td>Home in Asheville · ★4.91 · 1 bedroom · 1 bed · 1.5 shared baths</td><td>Private room</td><td>28801</td><td>42</td><td>2.36</td><td>88</td></tr><tr><td>Guest suite in Asheville · ★5.0 · 1 bedroom · 1 bed · 1 private bath</td><td>Private room</td><td>28804</td><td>300</td><td>0.15</td><td>0</td></tr><tr><td>Home in Asheville · ★5.0 · 2 bedrooms · 2 beds · 2 baths</td><td>Private room</td><td>28805</td><td>69</td><td>0.24</td><td>139</td></tr><tr><td>Home in Asheville · ★4.99 · 1 bedroom · 2 beds · 1 private bath</td><td>Private room</td><td>28806</td><td>135</td><td>7.64</td><td>157</td></tr><tr><td>Home in Arden · ★4.66 · 1 bedroom · 1 bed · 1 private bath</td><td>Private room</td><td>28704</td><td>70</td><td>1.25</td><td>180</td></tr><tr><td>Home in Asheville · ★4.91 · 1 bedroom · 1 bed · 1 private bath</td><td>Private room</td><td>28806</td><td>100</td><td>2.94</td><td>63</td></tr><tr><td>Home in Asheville · ★4.97 · 1 bedroom · 1 bed · 1 private bath</td><td>Private room</td><td>28806</td><td>140</td><td>1.16</td><td>0</td></tr><tr><td>Place to stay in Asheville · ★4.91 · 1 bed · Shared half-bath</td><td>Private room</td><td>28806</td><td>29</td><td>2.01</td><td>89</td></tr><tr><td>Townhouse in Arden · ★4.92 · 2 bedrooms · 2 beds · 1.5 baths</td><td>Private room</td><td>28704</td><td>145</td><td>0.38</td><td>0</td></tr><tr><td>Guest suite in Asheville · ★5.0 · 1 bedroom · 1 bed · 1 private bath</td><td>Private room</td><td>28806</td><td>88</td><td>1.57</td><td>1</td></tr><tr><td>Bungalow in Asheville · ★5.0 · 1 bedroom · 1 bed · 1 private bath</td><td>Private room</td><td>28806</td><td>70</td><td>0.33</td><td>87</td></tr><tr><td>Guest suite in Asheville · ★5.0 · 1 bedroom · 1 bed · 1 private bath</td><td>Private room</td><td>28806</td><td>65</td><td>3.81</td><td>72</td></tr><tr><td>Bed and breakfast in Asheville · 1 bedroom · 1 bed · 1 private bath</td><td>Private room</td><td>28801</td><td>189</td><td>0.09</td><td>320</td></tr><tr><td>Guest suite in Asheville · ★5.0 · 1 bedroom · 1 bed · 1 private bath</td><td>Private room</td><td>28806</td><td>107</td><td>2.61</td><td>78</td></tr><tr><td>Guest suite in Asheville · ★4.95 · 1 bedroom · 1 bed · 1 private bath</td><td>Private room</td><td>28801</td><td>102</td><td>3.34</td><td>119</td></tr><tr><td>Home in Asheville · ★5.0 · 1 bedroom · 1 bed · 1 shared bath</td><td>Private room</td><td>28803</td><td>91</td><td>1.42</td><td>364</td></tr><tr><td>Bed and breakfast in Asheville · 6 bedrooms · 10 beds · 6 baths</td><td>Private room</td><td>28801</td><td>1650</td><td>0.07</td><td>83</td></tr><tr><td>Guest suite in Asheville · ★4.96 · 1 bedroom · 1 bed · 1 private bath</td><td>Private room</td><td>28805</td><td>92</td><td>3.14</td><td>16</td></tr><tr><td>Home in Asheville · ★4.89 · 1 bedroom · 1 bed · 1 private bath</td><td>Private room</td><td>28803</td><td>92</td><td>2.28</td><td>75</td></tr><tr><td>Guest suite in Asheville · ★4.88 · 1 bedroom · 2 beds · 1 private bath</td><td>Private room</td><td>28804</td><td>74</td><td>3.84</td><td>73</td></tr><tr><td>Hostel in Asheville · ★4.25 · 7 bedrooms · 7 beds · 2 shared baths</td><td>Private room</td><td>28801</td><td>575</td><td>0.31</td><td>276</td></tr><tr><td>Loft in Asheville · ★4.93 · 1 bedroom · 1 bed · 1 private bath</td><td>Private room</td><td>28806</td><td>89</td><td>2.88</td><td>14</td></tr><tr><td>Home in Asheville · 1 bedroom · 1 bed · 1 private bath</td><td>Private room</td><td>28801</td><td>41</td><td>null</td><td>0</td></tr><tr><td>Home in Candler · ★4.98 · 1 bedroom · 1 bed · 1 private bath</td><td>Private room</td><td>28715</td><td>70</td><td>7.51</td><td>169</td></tr><tr><td>Bungalow in Asheville · ★4.97 · 1 bedroom · 1 bed · 1 private bath</td><td>Private room</td><td>28801</td><td>99</td><td>12.24</td><td>44</td></tr><tr><td>Home in Asheville · ★5.0 · 1 bedroom · 1 bed · 1 private bath</td><td>Private room</td><td>28806</td><td>100</td><td>1.08</td><td>179</td></tr><tr><td>Home in Asheville · ★5.0 · 1 bedroom · 1 bed · 2 baths</td><td>Private room</td><td>28804</td><td>77</td><td>0.35</td><td>89</td></tr><tr><td>Home in Asheville · ★5.0 · 1 bedroom · 1 bed · 1 shared bath</td><td>Private room</td><td>28806</td><td>123</td><td>0.13</td><td>342</td></tr><tr><td>Townhouse in Asheville · ★4.94 · 1 bedroom · 1 bed · 1.5 baths</td><td>Private room</td><td>28806</td><td>56</td><td>4.63</td><td>75</td></tr><tr><td>Home in Asheville · ★4.95 · 1 bedroom · 1 bed · 1 private bath</td><td>Private room</td><td>28806</td><td>60</td><td>3.4</td><td>354</td></tr><tr><td>Guest suite in Fletcher · ★5.0 · 1 bedroom · 1 private bath</td><td>Private room</td><td>28732</td><td>65</td><td>1.9</td><td>170</td></tr><tr><td>Guest suite in Arden · ★4.94 · 1 bedroom · 1 bed · 1 private bath</td><td>Private room</td><td>28704</td><td>62</td><td>2.23</td><td>310</td></tr><tr><td>Home in Asheville · 1 bedroom · 1 bed · 1.5 baths</td><td>Private room</td><td>28803</td><td>56</td><td>null</td><td>0</td></tr><tr><td>Home in Asheville · ★4.95 · 1 bedroom · 1 bed · 1 shared bath</td><td>Private room</td><td>28806</td><td>59</td><td>0.85</td><td>90</td></tr><tr><td>Guest suite in Asheville · ★4.83 · 1 bedroom · 1 bed · 1 private bath</td><td>Private room</td><td>28806</td><td>45</td><td>2.05</td><td>294</td></tr><tr><td>Guest suite in Asheville · ★4.84 · 1 bedroom · 1 bed · 1 private bath</td><td>Private room</td><td>28806</td><td>87</td><td>4.41</td><td>174</td></tr><tr><td>Home in Asheville · 1 bedroom · 1 bed · 1 shared bath</td><td>Private room</td><td>28806</td><td>50</td><td>null</td><td>345</td></tr><tr><td>Home in Asheville · ★4.96 · 1 bedroom · 2 beds · 1 private bath</td><td>Private room</td><td>28804</td><td>82</td><td>4.15</td><td>300</td></tr><tr><td>Townhouse in Asheville · ★5.0 · 1 bedroom · 1 bed · 1.5 baths</td><td>Private room</td><td>28806</td><td>80</td><td>0.92</td><td>32</td></tr><tr><td>Guest suite in Asheville · ★5.0 · 1 bedroom · 1 bed · 1 private bath</td><td>Private room</td><td>28801</td><td>150</td><td>3.08</td><td>221</td></tr><tr><td>Home in Asheville · ★5.0 · 1 bedroom · 1 bed · 1 private bath</td><td>Private room</td><td>28806</td><td>70</td><td>0.37</td><td>0</td></tr><tr><td>Boutique hotel in Asheville · ★5.0 · 2 bedrooms · 2 beds · 2 baths</td><td>Private room</td><td>28801</td><td>893</td><td>0.34</td><td>246</td></tr><tr><td>Boutique hotel in Asheville · 2 bedrooms · 1 bed · 2 baths</td><td>Private room</td><td>28801</td><td>1033</td><td>null</td><td>310</td></tr><tr><td>Boutique hotel in Asheville · ★5.0 · 2 bedrooms · 2 beds · 2 baths</td><td>Private room</td><td>28801</td><td>596</td><td>0.16</td><td>258</td></tr><tr><td>Boutique hotel in Asheville · 2 bedrooms · 2 beds · 2 baths</td><td>Private room</td><td>28801</td><td>830</td><td>0.1</td><td>288</td></tr><tr><td>Boutique hotel in Asheville · ★5.0 · 2 bedrooms · 2 beds · 2 baths</td><td>Private room</td><td>28801</td><td>501</td><td>0.91</td><td>220</td></tr><tr><td>Guest suite in Asheville · ★4.96 · 1 bedroom · 1 bed · 1 private bath</td><td>Private room</td><td>28806</td><td>60</td><td>2.44</td><td>314</td></tr><tr><td>Home in Asheville · 2 bedrooms · 2 beds · 1 private bath</td><td>Private room</td><td>28806</td><td>196</td><td>0.21</td><td>175</td></tr><tr><td>Home in Arden · ★4.97 · 1 bedroom · 1 bed · 1 private bath</td><td>Private room</td><td>28704</td><td>59</td><td>1.41</td><td>0</td></tr><tr><td>Home in Woodfin · ★4.75 · 1 bedroom · 1 bed · 1 private bath</td><td>Private room</td><td>28804</td><td>72</td><td>0.81</td><td>157</td></tr><tr><td>Home in Woodfin · ★4.88 · 1 bedroom · 1 bed · 1 private bath</td><td>Private room</td><td>28804</td><td>69</td><td>0.4</td><td>118</td></tr><tr><td>Home in Asheville · ★5.0 · 1 bedroom · 1 bed · 1 shared bath</td><td>Private room</td><td>28801</td><td>121</td><td>0.29</td><td>0</td></tr><tr><td>Home in Asheville · ★4.92 · 1 bedroom · 1 bed · 1 private bath</td><td>Private room</td><td>28801</td><td>72</td><td>4.34</td><td>129</td></tr><tr><td>Rental unit in Arden · ★4.77 · 2 bedrooms · 2 beds · 2 baths</td><td>Private room</td><td>28704</td><td>344</td><td>1.41</td><td>54</td></tr><tr><td>Hut in Asheville · ★4.70 · 1 bedroom · 1 shared bath</td><td>Private room</td><td>28806</td><td>27</td><td>1.49</td><td>354</td></tr><tr><td>Rental unit in Asheville · ★5.0 · 1 bedroom · 1 private bath</td><td>Private room</td><td>28806</td><td>56</td><td>0.36</td><td>346</td></tr><tr><td>Home in Asheville · ★5.0 · 1 bedroom · 1 bed · 1 private bath</td><td>Private room</td><td>28806</td><td>92</td><td>0.57</td><td>358</td></tr><tr><td>Home in Woodfin · ★4.98 · 1 bedroom · 1 bed · 1 private bath</td><td>Private room</td><td>28804</td><td>74</td><td>3.48</td><td>344</td></tr><tr><td>Home in Asheville · ★4.85 · 1 bedroom · 1 bed · 1 private bath</td><td>Private room</td><td>28803</td><td>109</td><td>2.34</td><td>177</td></tr><tr><td>Home in Asheville · ★5.0 · 1 bedroom · 1 bed · 1 shared bath</td><td>Private room</td><td>28803</td><td>122</td><td>0.34</td><td>365</td></tr><tr><td>Home in Asheville · ★5.0 · 1 bedroom · 1 bed · 1 shared bath</td><td>Private room</td><td>28806</td><td>50</td><td>0.17</td><td>0</td></tr><tr><td>Rental unit in Asheville · 1 bedroom · 1 shared bath</td><td>Private room</td><td>28805</td><td>75</td><td>null</td><td>0</td></tr><tr><td>Home in Asheville · ★4.97 · 1 bedroom · 1 bed · 1 shared bath</td><td>Private room</td><td>28806</td><td>49</td><td>2.08</td><td>255</td></tr><tr><td>Home in Asheville · ★4.83 · 1 bedroom · 1 shared bath</td><td>Private room</td><td>28806</td><td>50</td><td>2.35</td><td>226</td></tr><tr><td>Home in Asheville · ★4.84 · 2 bedrooms · 2 beds · 1 private bath</td><td>Private room</td><td>28806</td><td>82</td><td>1.4</td><td>73</td></tr><tr><td>Rental unit in Asheville · 1 bedroom · 1 bed · 1 shared bath</td><td>Private room</td><td>28801</td><td>65</td><td>0.14</td><td>365</td></tr><tr><td>Home in Asheville · 1 bedroom · 1 bed · 1 private bath</td><td>Private room</td><td>28806</td><td>40</td><td>null</td><td>334</td></tr><tr><td>Townhouse in Arden · ★5.0 · 1 bedroom · 1 bed · 1.5 baths</td><td>Private room</td><td>28704</td><td>70</td><td>1.44</td><td>260</td></tr><tr><td>Home in Arden · ★4.97 · 1 bedroom · 1 bed · 1 private bath</td><td>Private room</td><td>28704</td><td>51</td><td>4.73</td><td>166</td></tr><tr><td>Camper/RV in Asheville · ★4.86 · 1 bed · Half-bath</td><td>Private room</td><td>28806</td><td>35</td><td>0.57</td><td>176</td></tr><tr><td>Guest suite in Asheville · ★5.0 · 1 bedroom · 2 beds · 1 private bath</td><td>Private room</td><td>28804</td><td>125</td><td>2.47</td><td>240</td></tr><tr><td>Bungalow in Asheville · ★4.89 · 1 bedroom · 1 bed · 1 shared bath</td><td>Private room</td><td>28801</td><td>74</td><td>4.14</td><td>127</td></tr><tr><td>Home in Arden · ★4.80 · 1 bedroom · 1 bed · 1 shared bath</td><td>Private room</td><td>28704</td><td>65</td><td>0.38</td><td>301</td></tr><tr><td>Home in Asheville · ★5.0 · 1 bedroom · 1 bed · 1 private bath</td><td>Private room</td><td>28806</td><td>75</td><td>1.15</td><td>170</td></tr><tr><td>Home in Arden · ★5.0 · 1 bedroom · 1 bed · 1 private bath</td><td>Private room</td><td>28704</td><td>47</td><td>0.23</td><td>145</td></tr><tr><td>Guest suite in Arden · ★4.99 · 1 bedroom · 1 bed · 1 private bath</td><td>Private room</td><td>28704</td><td>84</td><td>5.85</td><td>129</td></tr><tr><td>Home in Asheville · 1 bedroom · 1 bed · 1 private bath</td><td>Private room</td><td>28803</td><td>64</td><td>null</td><td>179</td></tr><tr><td>Home in Asheville · ★4.86 · 1 bedroom · 1 bed · 1 private bath</td><td>Private room</td><td>28805</td><td>69</td><td>0.58</td><td>320</td></tr><tr><td>Boutique hotel in Asheville · ★4.74 · 1 bedroom · 2 beds · 1 private bath</td><td>Private room</td><td>28803</td><td>90</td><td>4.65</td><td>212</td></tr><tr><td>Boutique hotel in Asheville · ★4.53 · 1 bedroom · 2 beds · 1 private bath</td><td>Private room</td><td>28803</td><td>88</td><td>3.66</td><td>213</td></tr><tr><td>Home in Asheville · 1 bedroom · 1 bed · 1 private bath</td><td>Private room</td><td>28804</td><td>94</td><td>null</td><td>89</td></tr><tr><td>Home in Asheville · ★4.88 · 1 bedroom · 1 bed · 1 private bath</td><td>Private room</td><td>28806</td><td>60</td><td>4.34</td><td>82</td></tr><tr><td>Boutique hotel in Asheville · ★4.47 · 1 bedroom · 2 beds · 1 private bath</td><td>Private room</td><td>28803</td><td>119</td><td>1.33</td><td>213</td></tr><tr><td>Guest suite in Asheville · ★4.94 · 1 bedroom · 1 bed · 1 private bath</td><td>Private room</td><td>28806</td><td>54</td><td>4.0</td><td>260</td></tr><tr><td>Home in Arden · 1 bedroom · 1 bed · 1 private bath</td><td>Private room</td><td>28704</td><td>999</td><td>0.1</td><td>90</td></tr><tr><td>Home in Asheville · ★4.85 · 1 bedroom · 1 bed · 1 private bath</td><td>Private room</td><td>28806</td><td>68</td><td>4.43</td><td>326</td></tr><tr><td>Home in Asheville · ★4.92 · 1 bedroom · 2 beds · 1 private bath</td><td>Private room</td><td>28806</td><td>80</td><td>2.85</td><td>78</td></tr><tr><td>Home in Asheville · ★5.0 · 1 bedroom · 1 bed · 1 private bath</td><td>Private room</td><td>28803</td><td>66</td><td>2.2</td><td>149</td></tr><tr><td>Home in Asheville · ★5.0 · 1 bedroom · 1 bed · 1 private bath</td><td>Private room</td><td>28806</td><td>105</td><td>4.27</td><td>324</td></tr><tr><td>Home in Arden · ★5.0 · 1 bedroom · 1 bed · 1 private bath</td><td>Private room</td><td>28704</td><td>75</td><td>1.74</td><td>212</td></tr><tr><td>Home in Asheville · 1 bedroom · 1 bed · 1 shared bath</td><td>Private room</td><td>28806</td><td>50</td><td>null</td><td>257</td></tr><tr><td>Home in Asheville · ★5.0 · 1 bedroom · 1 bed · 1 private bath</td><td>Private room</td><td>28806</td><td>55</td><td>0.79</td><td>365</td></tr><tr><td>Home in Asheville · ★4.33 · 1 bedroom · 1 bed · 1 shared bath</td><td>Private room</td><td>28804</td><td>82</td><td>0.38</td><td>365</td></tr><tr><td>Home in Asheville · ★5.0 · 1 bedroom · 1 bed · 1 private bath</td><td>Private room</td><td>28803</td><td>85</td><td>1.66</td><td>349</td></tr><tr><td>Home in Asheville · ★5.0 · 2 bedrooms · 2 beds · 1 shared bath</td><td>Private room</td><td>28806</td><td>75</td><td>1.05</td><td>332</td></tr><tr><td>Guest suite in Asheville · ★4.91 · 1 bedroom · 2 beds · 1 private bath</td><td>Private room</td><td>28805</td><td>145</td><td>3.79</td><td>310</td></tr><tr><td>Home in Asheville · 2 bedrooms · 2 beds · 1 bath</td><td>Private room</td><td>28801</td><td>110</td><td>0.25</td><td>32</td></tr><tr><td>Boutique hotel in Asheville · ★5.0 · 4 bedrooms · 5 beds · 4.5 shared baths</td><td>Private room</td><td>28801</td><td>1244</td><td>0.93</td><td>254</td></tr><tr><td>Guest suite in Asheville · ★5.0 · 1 bedroom · 1 bed · 1 private bath</td><td>Private room</td><td>28806</td><td>111</td><td>0.43</td><td>56</td></tr><tr><td>Home in Asheville · ★4.84 · 1 bedroom · 1 bed · 1 private bath</td><td>Private room</td><td>28805</td><td>70</td><td>2.52</td><td>160</td></tr><tr><td>Home in Asheville · 1 bedroom · 1 bed · 1 private bath</td><td>Private room</td><td>28805</td><td>95</td><td>0.13</td><td>327</td></tr><tr><td>Home in Asheville · ★5.0 · 1 bedroom · 1 bed · 1 private bath</td><td>Private room</td><td>28804</td><td>57</td><td>2.92</td><td>318</td></tr><tr><td>Home in Asheville · ★4.92 · 1 bedroom · 1 bed · 1 shared bath</td><td>Private room</td><td>28806</td><td>51</td><td>3.54</td><td>39</td></tr><tr><td>Home in Asheville · 1 bedroom · 1 bed · 1 private bath</td><td>Private room</td><td>28806</td><td>79</td><td>null</td><td>0</td></tr><tr><td>Home in Asheville · 1 bedroom · 1 bed · 1 shared bath</td><td>Private room</td><td>28806</td><td>69</td><td>null</td><td>348</td></tr><tr><td>Home in Fletcher · ★4.92 · 1 bedroom · 1 bed · 1 private bath</td><td>Private room</td><td>28732</td><td>83</td><td>3.16</td><td>82</td></tr><tr><td>Home in Buncombe County · 4 bedrooms · 4 beds · 2.5 baths</td><td>Private room</td><td>28715</td><td>34</td><td>null</td><td>364</td></tr><tr><td>Home in Woodfin · ★5.0 · 1 bedroom · 1 bed · 1 shared bath</td><td>Private room</td><td>28804</td><td>89</td><td>2.28</td><td>89</td></tr><tr><td>Home in Asheville · 1 bedroom · 1 bed · 1 shared bath</td><td>Private room</td><td>28806</td><td>47</td><td>null</td><td>316</td></tr><tr><td>Home in Asheville · 1 bedroom · 1 bed · 1 private bath</td><td>Private room</td><td>28803</td><td>77</td><td>0.5</td><td>144</td></tr><tr><td>Bed and breakfast in Asheville · 1 bedroom · 1 bed · 1 private bath</td><td>Private room</td><td>28801</td><td>238</td><td>0.32</td><td>280</td></tr><tr><td>Home in Asheville · ★New · 1 bedroom · 1 bed · 1 shared bath</td><td>Private room</td><td>28804</td><td>65</td><td>null</td><td>109</td></tr><tr><td>Bed and breakfast in Asheville · 1 bedroom · 1 bed · 1 private bath</td><td>Private room</td><td>28801</td><td>238</td><td>null</td><td>293</td></tr><tr><td>Bed and breakfast in Asheville · 1 bedroom · 1 bed · 1 private bath</td><td>Private room</td><td>28801</td><td>278</td><td>null</td><td>292</td></tr><tr><td>Bed and breakfast in Asheville · 1 bedroom · 1 bed · 1 private bath</td><td>Private room</td><td>28801</td><td>256</td><td>null</td><td>286</td></tr><tr><td>Home in Asheville · 1 bedroom · 1 bed · 1.5 baths</td><td>Private room</td><td>28804</td><td>40</td><td>null</td><td>317</td></tr><tr><td>Bed and breakfast in Asheville · 1 bedroom · 1 bed · 1 private bath</td><td>Private room</td><td>28801</td><td>256</td><td>null</td><td>296</td></tr><tr><td>Bed and breakfast in Asheville · 1 bedroom · 1 bed · 1 private bath</td><td>Private room</td><td>28801</td><td>256</td><td>null</td><td>328</td></tr><tr><td>Bed and breakfast in Asheville · 1 bedroom · 2 beds · 1 private bath</td><td>Private room</td><td>28801</td><td>278</td><td>null</td><td>322</td></tr><tr><td>Home in Asheville · 2 bedrooms · 3 beds · 1 private bath</td><td>Private room</td><td>28806</td><td>75</td><td>null</td><td>85</td></tr><tr><td>Home in Asheville · ★4.80 · 1 bedroom · 1 bed · 1 private bath</td><td>Private room</td><td>28805</td><td>92</td><td>1.55</td><td>77</td></tr><tr><td>Home in Asheville · ★5.0 · 2 bedrooms · 2 beds · 1 private bath</td><td>Private room</td><td>28806</td><td>93</td><td>5.43</td><td>60</td></tr><tr><td>Home in Woodfin · ★4.83 · 1 bedroom · 1 bed · 1 shared bath</td><td>Private room</td><td>28804</td><td>88</td><td>1.94</td><td>89</td></tr><tr><td>Home in Asheville · ★5.0 · 1 bedroom · 1 bed · 1 private bath</td><td>Private room</td><td>28806</td><td>49</td><td>2.67</td><td>49</td></tr><tr><td>Home in Asheville · ★5.0 · 2 bedrooms · 2 beds · 2 shared baths</td><td>Private room</td><td>28806</td><td>61</td><td>5.45</td><td>54</td></tr><tr><td>Rental unit in Woodfin · 1 bedroom · 1 bed · 1 private bath</td><td>Private room</td><td>28804</td><td>100</td><td>1.0</td><td>361</td></tr><tr><td>Home in Asheville · ★5.0 · 1 bedroom · 1 bed · 1 private bath</td><td>Private room</td><td>28805</td><td>54</td><td>2.14</td><td>334</td></tr><tr><td>Home in Asheville · 1 bedroom · 1 bed · 1 private bath</td><td>Private room</td><td>28805</td><td>100</td><td>null</td><td>364</td></tr><tr><td>Home in Asheville · ★5.0 · 1 bedroom · 1 bed · 1 private bath</td><td>Private room</td><td>28806</td><td>49</td><td>3.69</td><td>60</td></tr><tr><td>Home in Arden · ★New · 1 bedroom · 1 bed · 1 shared bath</td><td>Private room</td><td>28704</td><td>30</td><td>1.0</td><td>321</td></tr><tr><td>Home in Asheville · ★New · 1 bedroom · 1 bed · 1 bath</td><td>Private room</td><td>28805</td><td>130</td><td>null</td><td>0</td></tr><tr><td>Hotel in Asheville · ★4.75 · 2 bedrooms · 3 beds · 2 shared baths</td><td>Private room</td><td>28803</td><td>210</td><td>5.85</td><td>363</td></tr><tr><td>Home in Asheville · ★New · 1 bedroom · 1 bed · 1 bath</td><td>Private room</td><td>28804</td><td>62</td><td>null</td><td>0</td></tr><tr><td>Home in Asheville · ★New · 1 bedroom · 1 bed · 1 bath</td><td>Private room</td><td>28806</td><td>55</td><td>null</td><td>2</td></tr><tr><td>Home in Asheville · ★New · 1 bedroom · 1 bed · 1 private bath</td><td>Private room</td><td>28801</td><td>63</td><td>null</td><td>335</td></tr><tr><td>Home in Asheville · ★New · 1 bedroom · 1 bed · 1 bath</td><td>Private room</td><td>28806</td><td>57</td><td>1.0</td><td>62</td></tr><tr><td>Home in Asheville · ★New · 1 bedroom · 1 bed · 1 bath</td><td>Private room</td><td>28806</td><td>82</td><td>1.0</td><td>352</td></tr><tr><td>Home in Asheville · ★New · 1 bedroom · 1 bed · 1.5 baths</td><td>Private room</td><td>28803</td><td>80</td><td>1.0</td><td>46</td></tr><tr><td>Home in Asheville · ★5.0 · 1 bedroom · 1 bed · 1 shared bath</td><td>Private room</td><td>28806</td><td>45</td><td>8.0</td><td>3</td></tr><tr><td>Home in Asheville · ★New · 1 bedroom · 1 bed · 1 bath</td><td>Private room</td><td>28801</td><td>79</td><td>null</td><td>123</td></tr><tr><td>Hotel in Asheville · ★New · 1 bedroom · 2 beds · 1 bath</td><td>Private room</td><td>28806</td><td>65</td><td>null</td><td>361</td></tr><tr><td>Home in Asheville · ★New · 1 bedroom · 1 bed · 1 bath</td><td>Private room</td><td>28804</td><td>91</td><td>null</td><td>365</td></tr><tr><td>Home in Asheville · ★New · 1 bedroom · 1 bed · 1 bath</td><td>Private room</td><td>28801</td><td>135</td><td>null</td><td>350</td></tr><tr><td>Home in Asheville · ★New · 1 bedroom · 1 bed · 1 private bath</td><td>Private room</td><td>28806</td><td>82</td><td>null</td><td>172</td></tr></tbody></table></div>"
      ]
     },
     "metadata": {
      "application/vnd.databricks.v1+output": {
       "addedWidgets": {},
       "aggData": [],
       "aggError": "",
       "aggOverflow": false,
       "aggSchema": [],
       "aggSeriesLimitReached": false,
       "aggType": "",
       "arguments": {},
       "columnCustomDisplayInfos": {},
       "data": [
        [
         "Home in Asheville · ★4.52 · 1 bedroom · 1 bed · 2.5 shared baths",
         "Private room",
         28806,
         66,
         0.47,
         0
        ],
        [
         "Home in Asheville · ★4.96 · 1 bedroom · 1 bed · 1 private bath",
         "Private room",
         28806,
         45,
         0.51,
         82
        ],
        [
         "Cabin in Asheville · ★4.66 · 1 bedroom · 1 bed · 1 shared bath",
         "Private room",
         28805,
         68,
         0.41,
         57
        ],
        [
         "Home in Asheville · ★4.65 · 1 bedroom · 1 bed · 1 private bath",
         "Private room",
         28805,
         58,
         2.02,
         362
        ],
        [
         "Home in Asheville · ★4.68 · 1 bedroom · 1 bed · 1 private bath",
         "Private room",
         28801,
         63,
         8.5,
         0
        ],
        [
         "Bed and breakfast in Asheville · ★4.79 · 1 bedroom · 2 beds · 1 private bath",
         "Private room",
         28801,
         249,
         0.13,
         317
        ],
        [
         "Home in Asheville · ★4.71 · 1 bedroom · 1 bed · 1 private bath",
         "Private room",
         28805,
         185,
         1.63,
         365
        ],
        [
         "Home in Asheville · ★4.94 · 1 bedroom · 1 bed · 1 private bath",
         "Private room",
         28806,
         77,
         5.05,
         169
        ],
        [
         "Bungalow in Asheville · ★4.90 · 1 bedroom · 1 bed · 1 private bath",
         "Private room",
         28806,
         84,
         2.62,
         175
        ],
        [
         "Home in Arden · ★4.97 · 1 bedroom · 1 bed · 1 private bath",
         "Private room",
         28704,
         79,
         1.06,
         359
        ],
        [
         "Home in Asheville · ★4.89 · 1 bedroom · 1 bed · 1 bath",
         "Private room",
         28801,
         70,
         0.33,
         335
        ],
        [
         "Bed and breakfast in Asheville · ★4.80 · 1 bedroom · 1 bed · 1 private bath",
         "Private room",
         28801,
         199,
         0.06,
         308
        ],
        [
         "Home in Asheville · ★4.95 · 1 bedroom · 1 bed · 1 private bath",
         "Private room",
         28801,
         90,
         2.36,
         269
        ],
        [
         "Rental unit in Asheville · ★4.76 · 1 bedroom · 1 bed · 2 shared baths",
         "Private room",
         28801,
         96,
         4.23,
         325
        ],
        [
         "Bungalow in Asheville · ★4.75 · 1 bedroom · 1 bed · 1 private bath",
         "Private room",
         28806,
         65,
         0.32,
         353
        ],
        [
         "Home in Asheville · ★4.89 · 1 bedroom · 1 bed · 1 private bath",
         "Private room",
         28801,
         99,
         9.6,
         324
        ],
        [
         "Home in Asheville · ★4.74 · 1 bedroom · 1 bed · 1 private bath",
         "Private room",
         28803,
         46,
         7.98,
         27
        ],
        [
         "Home in Asheville · ★4.75 · 1 bedroom · 1 bed · 1 private bath",
         "Private room",
         28803,
         50,
         10.93,
         66
        ],
        [
         "Cottage in Asheville · ★4.95 · 1 bedroom · 1 bed · 1 private bath",
         "Private room",
         28806,
         59,
         1.86,
         314
        ],
        [
         "Home in Asheville · ★4.12 · 1 bedroom · 1 bed · 1 shared bath",
         "Private room",
         28806,
         76,
         0.49,
         0
        ],
        [
         "Place to stay in Asheville · ★4.93 · 1 bedroom · 1 bed · 1 private bath",
         "Private room",
         28804,
         186,
         2.01,
         336
        ],
        [
         "Home in Asheville · ★4.93 · 1 bedroom · 1 bed · 1 private bath",
         "Private room",
         28806,
         56,
         2.3,
         212
        ],
        [
         "Home in Asheville · ★4.93 · 1 bedroom · 1 bed · 1 private bath",
         "Private room",
         28804,
         72,
         4.21,
         0
        ],
        [
         "Home in Asheville · ★4.88 · Studio · 1 bed · 1 shared bath",
         "Private room",
         28805,
         54,
         0.31,
         363
        ],
        [
         "Home in Asheville · ★4.77 · 1 bedroom · 1 bed · 1 shared bath",
         "Private room",
         28805,
         58,
         0.53,
         353
        ],
        [
         "Home in Asheville · ★4.97 · 1 bedroom · 1 bed · 1 private bath",
         "Private room",
         28805,
         99,
         2.2,
         0
        ],
        [
         "Guest suite in Candler · ★4.96 · 1 bedroom · 1 bed · 1 private bath",
         "Private room",
         28715,
         83,
         1.22,
         356
        ],
        [
         "Home in Asheville · ★4.74 · 1 bedroom · 2 beds · 1.5 shared baths",
         "Private room",
         28803,
         70,
         1.33,
         30
        ],
        [
         "Rental unit in Asheville · ★4.82 · 1 bedroom · 1 bed · 2 shared baths",
         "Private room",
         28801,
         57,
         2.98,
         309
        ],
        [
         "Bungalow in Asheville · ★4.92 · 1 bedroom · 1 bed · 1 private bath",
         "Private room",
         28803,
         85,
         3.46,
         19
        ],
        [
         "Rental unit in Asheville · ★4.80 · 1 bedroom · 1 bed · 2 shared baths",
         "Private room",
         28801,
         87,
         3.69,
         325
        ],
        [
         "Bungalow in Asheville · ★4.96 · 1 bedroom · 1 bed · 1 shared bath",
         "Private room",
         28806,
         43,
         2.86,
         168
        ],
        [
         "Home in Asheville · ★4.72 · 1 bedroom · 1 bed · 2.5 shared baths",
         "Private room",
         28806,
         66,
         0.79,
         350
        ],
        [
         "Home in Asheville · ★4.74 · 1 bedroom · 1 bed · 1 shared bath",
         "Private room",
         28806,
         61,
         1.68,
         356
        ],
        [
         "Rental unit in Asheville · ★4.82 · 1 bedroom · 1 bed · 2 shared baths",
         "Private room",
         28801,
         95,
         3.71,
         321
        ],
        [
         "Bungalow in Asheville · ★4.90 · 1 bedroom · 1 bed · 1 private bath",
         "Private room",
         28806,
         125,
         1.17,
         364
        ],
        [
         "Home in Arden · ★4.80 · 2 bedrooms · 2 beds · 1 private bath",
         "Private room",
         28704,
         133,
         1.9,
         0
        ],
        [
         "Home in Asheville · ★4.81 · 1 bedroom · 1 bed · 1 private bath",
         "Private room",
         28804,
         70,
         0.59,
         88
        ],
        [
         "Home in Asheville · ★4.81 · 1 bedroom · 1 bed · 1 shared bath",
         "Private room",
         28805,
         60,
         0.23,
         344
        ],
        [
         "Bungalow in Asheville · ★4.95 · 1 bedroom · 1 bed · 1 private bath",
         "Private room",
         28806,
         87,
         0.61,
         119
        ],
        [
         "Guest suite in Asheville · ★4.95 · 1 bedroom · 2 beds · 1 private bath",
         "Private room",
         28806,
         73,
         2.46,
         53
        ],
        [
         "Hotel in Fletcher · ★4.86 · 1 bedroom · 2 beds · 1 private bath",
         "Private room",
         28732,
         371,
         0.62,
         365
        ],
        [
         "Home in Asheville · ★4.98 · 1 bedroom · 1 bed · 1 private bath",
         "Private room",
         28806,
         99,
         0.95,
         254
        ],
        [
         "Home in Asheville · ★4.98 · 1 bedroom · 1 bed · 1 private bath",
         "Private room",
         28801,
         126,
         3.58,
         174
        ],
        [
         "Home in Asheville · ★4.83 · 1 bedroom · 1 bed · 1 shared bath",
         "Private room",
         28803,
         43,
         1.33,
         0
        ],
        [
         "Cabin in Arden · ★4.93 · 1 bedroom · 1 bed · 1 private bath",
         "Private room",
         28704,
         77,
         0.89,
         365
        ],
        [
         "Home in Asheville · ★4.95 · 1 bedroom · 1 bed · 1.5 baths",
         "Private room",
         28803,
         130,
         1.26,
         365
        ],
        [
         "Home in Asheville · ★4.93 · 2 bedrooms · 1 bed · 1 private bath",
         "Private room",
         28803,
         78,
         0.96,
         65
        ],
        [
         "Home in Asheville · ★4.95 · 1 bedroom · 1 bed · 1 private bath",
         "Private room",
         28801,
         76,
         2.89,
         15
        ],
        [
         "Home in Asheville · ★4.90 · 1 bedroom · 3 beds · 1 bath",
         "Private room",
         28803,
         48,
         1.35,
         0
        ],
        [
         "Home in Asheville · ★4.86 · 1 bedroom · 1 bed · 1 shared bath",
         "Private room",
         28806,
         83,
         0.5,
         0
        ],
        [
         "Guest suite in Asheville · ★4.58 · 1 bedroom · 4 beds · 1.5 baths",
         "Private room",
         28803,
         69,
         1.23,
         189
        ],
        [
         "Home in Asheville · ★4.20 · 2 bedrooms · 1 bed · 1 shared bath",
         "Private room",
         28804,
         40,
         0.54,
         0
        ],
        [
         "Home in Asheville · ★5.0 · 1 bedroom · 1 bed · 1 shared bath",
         "Private room",
         28804,
         119,
         0.13,
         177
        ],
        [
         "Home in Asheville · ★4.99 · 1 bedroom · 1 bed · 1 private bath",
         "Private room",
         28806,
         72,
         1.73,
         91
        ],
        [
         "Home in Asheville · ★4.66 · 1 bedroom · 1 bed · 1 shared bath",
         "Private room",
         28806,
         80,
         0.75,
         0
        ],
        [
         "Home in Asheville · ★4.97 · 1 bedroom · 1 bed · 1 private bath",
         "Private room",
         28803,
         105,
         1.72,
         90
        ],
        [
         "Rental unit in Asheville · ★4.74 · 1 bedroom · 1 bed · 1 private bath",
         "Private room",
         28801,
         108,
         1.0,
         318
        ],
        [
         "Bungalow in Asheville · ★4.91 · 1 bedroom · 1 bed · 1 private bath",
         "Private room",
         28803,
         60,
         2.41,
         1
        ],
        [
         "Home in Arden · ★4.91 · 1 bedroom · 1 bed · 1 shared bath",
         "Private room",
         28704,
         72,
         4.86,
         0
        ],
        [
         "Home in Asheville · ★4.96 · 2 bedrooms · 2 beds · 1 shared bath",
         "Private room",
         28806,
         155,
         0.95,
         55
        ],
        [
         "Home in Asheville · ★4.85 · 1 bedroom · 1 bed · 1 shared bath",
         "Private room",
         28806,
         62,
         2.0,
         363
        ],
        [
         "Bungalow in Asheville · ★4.92 · 1 bedroom · 1 bed · 1 shared bath",
         "Private room",
         28801,
         53,
         2.98,
         72
        ],
        [
         "Place to stay in Asheville · ★4.47 · 1 bedroom · 1 bed · 1 bath",
         "Private room",
         28801,
         114,
         2.37,
         278
        ],
        [
         "Home in Asheville · ★4.86 · 1 bedroom · 2 beds · 1 shared bath",
         "Private room",
         28805,
         47,
         1.74,
         0
        ],
        [
         "Home in Asheville · ★4.93 · 1 bedroom · 1 bed · 1 shared bath",
         "Private room",
         28806,
         97,
         0.17,
         0
        ],
        [
         "Home in Asheville · ★4.95 · 1 bedroom · 1 bed · 1 private bath",
         "Private room",
         28803,
         105,
         0.77,
         90
        ],
        [
         "Cottage in Asheville · ★4.96 · 1 bedroom · 1 bed · 1 shared bath",
         "Private room",
         28803,
         59,
         1.74,
         117
        ],
        [
         "Bungalow in Asheville · ★4.89 · 1 bedroom · 1 bed · 1 bath",
         "Private room",
         28805,
         40,
         0.23,
         244
        ],
        [
         "Rental unit in Asheville · ★4.89 · 1 bedroom · 1 bed · 2 baths",
         "Private room",
         28803,
         100,
         0.46,
         0
        ],
        [
         "Home in Asheville · ★4.96 · 1 bedroom · 1 bed · 1 private bath",
         "Private room",
         28801,
         138,
         5.44,
         76
        ],
        [
         "Home in Arden · ★4.89 · 3 bedrooms · 3 beds · 2 baths",
         "Private room",
         28704,
         88,
         0.48,
         0
        ],
        [
         "Rental unit in Asheville · ★4.97 · 1 bedroom · 1 bed · 1 private bath",
         "Private room",
         28806,
         97,
         0.39,
         166
        ],
        [
         "Home in Asheville · ★4.87 · 1 bedroom · 1 bed · 1 shared bath",
         "Private room",
         28806,
         58,
         2.43,
         161
        ],
        [
         "Home in Asheville · ★4.97 · 1 bedroom · 1 bed · 1 private bath",
         "Private room",
         28801,
         90,
         1.51,
         0
        ],
        [
         "Home in Fletcher · ★4.79 · 1 bedroom · 2 beds · 1 private bath",
         "Private room",
         28732,
         80,
         1.48,
         331
        ],
        [
         "Bungalow in Asheville · ★4.87 · 1 bedroom · 1 bed · 1 shared bath",
         "Private room",
         28806,
         53,
         2.79,
         68
        ],
        [
         "Guest suite in Asheville · ★4.97 · 1 bedroom · 1 bed · 1 private bath",
         "Private room",
         28801,
         78,
         8.72,
         29
        ],
        [
         "Home in Asheville · ★4.95 · 1 bedroom · 1 bed · 1 private bath",
         "Private room",
         28805,
         95,
         2.3,
         24
        ],
        [
         "Home in Asheville · ★4.90 · 1 bedroom · 5 beds · 1 shared bath",
         "Private room",
         28804,
         106,
         2.7,
         144
        ],
        [
         "Home in Asheville · ★4.94 · 1 bedroom · 1 bed · 1 private bath",
         "Private room",
         28804,
         66,
         4.16,
         38
        ],
        [
         "Bed and breakfast in Asheville · 1 bedroom · 1 bed · 1 private bath",
         "Private room",
         28801,
         150,
         0.01,
         70
        ],
        [
         "Home in Asheville · ★4.82 · 1 bedroom · 1 bed · 1 private bath",
         "Private room",
         28803,
         89,
         3.3,
         70
        ],
        [
         "Home in Asheville · ★4.94 · 1 bedroom · 1 bed · 1 private bath",
         "Private room",
         28801,
         121,
         4.75,
         68
        ],
        [
         "Home in Asheville · ★4.97 · 1 bedroom · 1 bed · 1 private bath",
         "Private room",
         28801,
         156,
         4.32,
         80
        ],
        [
         "Home in Asheville · Studio · 2 beds · 0 shared baths",
         "Private room",
         28804,
         75,
         0.03,
         179
        ],
        [
         "Bungalow in Asheville · ★4.96 · 1 bedroom · 1 bed · 1 shared bath",
         "Private room",
         28801,
         117,
         0.67,
         154
        ],
        [
         "Place to stay in Asheville · ★4.56 · 1 bedroom · 1 bed · 1 private bath",
         "Private room",
         28801,
         114,
         0.34,
         287
        ],
        [
         "Place to stay in Asheville · ★4.53 · 1 bedroom · 1 bed · 1 bath",
         "Private room",
         28801,
         114,
         0.76,
         287
        ],
        [
         "Place to stay in Asheville · ★4.45 · 1 bedroom · 1 bed · 1 bath",
         "Private room",
         28801,
         114,
         0.3,
         288
        ],
        [
         "Place to stay in Asheville · ★4.65 · 1 bedroom · 1 bed · 1 bath",
         "Private room",
         28801,
         114,
         0.84,
         286
        ],
        [
         "Place to stay in Asheville · ★4.59 · 1 bedroom · 1 bed · 1 bath",
         "Private room",
         28801,
         114,
         1.45,
         288
        ],
        [
         "Home in Asheville · ★4.95 · 1 bedroom · 1 bed · 1 private bath",
         "Private room",
         28806,
         76,
         2.33,
         86
        ],
        [
         "Place to stay in Asheville · ★4.54 · 1 bedroom · 2 beds · 1 bath",
         "Private room",
         28801,
         114,
         1.08,
         283
        ],
        [
         "Place to stay in Asheville · ★4.56 · 1 bedroom · 2 beds · 1 bath",
         "Private room",
         28801,
         114,
         2.4,
         274
        ],
        [
         "Place to stay in Asheville · ★4.49 · 1 bedroom · 2 beds · 1 bath",
         "Private room",
         28801,
         114,
         1.45,
         279
        ],
        [
         "Home in Asheville · ★4.95 · 2 bedrooms · 1 bed · 1 private bath",
         "Private room",
         28801,
         106,
         1.57,
         360
        ],
        [
         "Home in Asheville · ★4.96 · 2 bedrooms · 2 beds · 1 private bath",
         "Private room",
         28801,
         106,
         1.46,
         362
        ],
        [
         "Home in Asheville · ★4.99 · 1 bedroom · 1 bed · 1 private bath",
         "Private room",
         28805,
         79,
         2.2,
         245
        ],
        [
         "Farm stay in Asheville · ★5.0 · 2 bedrooms · 1 bed · 1 private bath",
         "Private room",
         28803,
         79,
         1.88,
         0
        ],
        [
         "Home in Candler · ★4.93 · 1 bedroom · 1 bed · 1 shared bath",
         "Private room",
         28715,
         56,
         1.46,
         290
        ],
        [
         "Home in Asheville · ★5.0 · 1 bedroom · 1 bed · 1 private bath",
         "Private room",
         28803,
         78,
         0.89,
         336
        ],
        [
         "Home in Asheville · ★4.93 · 1 bedroom · 1 bed · 1 private bath",
         "Private room",
         28806,
         56,
         2.39,
         15
        ],
        [
         "Home in Asheville · ★4.71 · 1 bedroom · 1 bed · 1 shared bath",
         "Private room",
         28806,
         57,
         0.45,
         310
        ],
        [
         "Home in Asheville · ★4.90 · 1 bedroom · 1 bed · 1 private bath",
         "Private room",
         28806,
         80,
         1.32,
         0
        ],
        [
         "Home in Asheville · ★4.89 · 1 bedroom · 1 bed · 1 shared bath",
         "Private room",
         28806,
         70,
         3.08,
         0
        ],
        [
         "Home in Asheville · ★4.87 · 1 bedroom · 1 bed · 1 shared bath",
         "Private room",
         28806,
         26,
         1.78,
         0
        ],
        [
         "Home in Asheville · ★4.89 · 1 bedroom · 2 beds · 1 private bath",
         "Private room",
         28805,
         114,
         1.48,
         87
        ],
        [
         "Bungalow in Woodfin · 3 bedrooms · 1 bed · 1.5 shared baths",
         "Private room",
         28804,
         250,
         0.02,
         0
        ],
        [
         "Home in Asheville · ★5.0 · 1 bedroom · 1 bed · 1 private bath",
         "Private room",
         28801,
         34,
         0.27,
         102
        ],
        [
         "Bungalow in Asheville · ★4.99 · 1 bedroom · 1 bed · 1 shared bath",
         "Private room",
         28804,
         65,
         5.4,
         1
        ],
        [
         "Bed and breakfast in Asheville · 1 bedroom · 1 bed · 1 private bath",
         "Private room",
         28801,
         229,
         0.06,
         120
        ],
        [
         "Bed and breakfast in Asheville · 1 bedroom · 2 beds · 1 private bath",
         "Private room",
         28801,
         342,
         0.04,
         80
        ],
        [
         "Castle in Asheville · ★4.96 · 1 bedroom · 1 bed · 2 shared baths",
         "Private room",
         28801,
         144,
         2.06,
         183
        ],
        [
         "Home in Asheville · ★4.82 · 1 bedroom · 1 bed · 1 shared bath",
         "Private room",
         28803,
         58,
         10.15,
         157
        ],
        [
         "Home in Asheville · ★4.87 · 1 bedroom · 1 bed · 1 shared bath",
         "Private room",
         28803,
         44,
         2.27,
         324
        ],
        [
         "Guest suite in Asheville · ★5.0 · 1 bedroom · 1 bed · 1 shared bath",
         "Private room",
         28801,
         140,
         0.19,
         23
        ],
        [
         "Bed and breakfast in Asheville · 1 bedroom · 1 bed · 1 private bath",
         "Private room",
         28801,
         328,
         null,
         96
        ],
        [
         "Bed and breakfast in Asheville · 1 bedroom · 1 bed · 1 private bath",
         "Private room",
         28801,
         230,
         0.02,
         95
        ],
        [
         "Bed and breakfast in Asheville · 1 bedroom · 1 bed · 1 private bath",
         "Private room",
         28801,
         231,
         0.06,
         91
        ],
        [
         "Home in Asheville · ★4.84 · 1 bedroom · 1 bed · 1 private bath",
         "Private room",
         28803,
         85,
         2.59,
         167
        ],
        [
         "Home in Asheville · ★4.92 · 1 bedroom · 1 bed · 1 private bath",
         "Private room",
         28806,
         70,
         1.41,
         0
        ],
        [
         "Bungalow in Asheville · ★4.87 · 1 bedroom · 1 bed · 1 private bath",
         "Private room",
         28806,
         43,
         2.48,
         21
        ],
        [
         "Home in Asheville · ★4.95 · 1 bedroom · 1 bed · 1 shared bath",
         "Private room",
         28804,
         75,
         4.75,
         151
        ],
        [
         "Farm stay in Asheville · ★4.96 · 1 bedroom · 1 bed · 1.5 baths",
         "Private room",
         28805,
         91,
         1.47,
         135
        ],
        [
         "Home in Asheville · ★4.94 · 1 bedroom · 1 bed · 1 private bath",
         "Private room",
         28801,
         85,
         2.18,
         49
        ],
        [
         "Home in Asheville · ★4.78 · 1 bedroom · 1 bed · 1 private bath",
         "Private room",
         28801,
         86,
         3.69,
         173
        ],
        [
         "Townhouse in Arden · ★4.96 · 1 bedroom · 1 bed · 1 private bath",
         "Private room",
         28704,
         61,
         2.53,
         0
        ],
        [
         "Rental unit in Asheville · ★4.86 · 1 bedroom · 1 bed · 2 shared baths",
         "Private room",
         28801,
         69,
         1.37,
         307
        ],
        [
         "Home in Asheville · ★4.88 · 1 bedroom · 1 bed · 1 shared bath",
         "Private room",
         28805,
         44,
         1.65,
         0
        ],
        [
         "Bed and breakfast in Asheville · ★4.95 · 1 bedroom · 1 bed · 1 shared bath",
         "Private room",
         28801,
         375,
         0.63,
         215
        ],
        [
         "Home in Asheville · ★4.93 · 1 bedroom · 1 bed · 1 private bath",
         "Private room",
         28803,
         76,
         0.9,
         260
        ],
        [
         "Guest suite in Arden · ★5.0 · 1 bedroom · 1 bed · 1 private bath",
         "Private room",
         28704,
         90,
         0.79,
         341
        ],
        [
         "Home in Asheville · ★4.80 · 1 bedroom · 1 bed · 1 private bath",
         "Private room",
         28806,
         65,
         0.78,
         0
        ],
        [
         "Home in Asheville · ★4.98 · 2 bedrooms · 3 beds · 1 shared bath",
         "Private room",
         28801,
         95,
         2.09,
         86
        ],
        [
         "Rental unit in Asheville · ★4.84 · 1 bedroom · 1 bed · 2 shared baths",
         "Private room",
         28801,
         57,
         2.33,
         315
        ],
        [
         "Home in Asheville · ★4.82 · 1 bedroom · 1 bed · 1 private bath",
         "Private room",
         28803,
         69,
         14.79,
         158
        ],
        [
         "Home in Asheville · ★4.97 · 1 bedroom · 1 bed · 1 private bath",
         "Private room",
         28806,
         107,
         1.99,
         53
        ],
        [
         "Home in Asheville · ★4.95 · 1 bedroom · 1 bed · 1 private bath",
         "Private room",
         28805,
         89,
         0.32,
         82
        ],
        [
         "Home in Asheville · ★4.86 · 1 bedroom · 1 bed · 1 private bath",
         "Private room",
         28806,
         65,
         2.33,
         165
        ],
        [
         "Home in Asheville · ★5.0 · 1 bedroom · 1 bed · 1 private bath",
         "Private room",
         28801,
         129,
         4.41,
         73
        ],
        [
         "Bed and breakfast in Asheville · ★4.88 · 1 bedroom · 2 beds · 1 private bath",
         "Private room",
         28801,
         229,
         0.2,
         328
        ],
        [
         "Home in Asheville · ★4.90 · 1 bedroom · 1 bed · 1 shared bath",
         "Private room",
         28801,
         70,
         6.05,
         141
        ],
        [
         "Home in Asheville · ★5.0 · 1 bedroom · 1 bed · 1 private bath",
         "Private room",
         28805,
         175,
         0.06,
         0
        ],
        [
         "Home in Asheville · ★4.90 · 1 bedroom · 1 bed · 1 private bath",
         "Private room",
         28806,
         63,
         5.03,
         224
        ],
        [
         "Home in Asheville · ★5.0 · 1 bedroom · 2 beds · 1 private bath",
         "Private room",
         28805,
         200,
         0.15,
         0
        ],
        [
         "Guest suite in Asheville · ★4.93 · 1 bedroom · 1 bed · 1 shared bath",
         "Private room",
         28805,
         89,
         1.87,
         358
        ],
        [
         "Home in Asheville · ★4.88 · 1 bedroom · 1 bed · 1 shared bath",
         "Private room",
         28801,
         56,
         6.21,
         153
        ],
        [
         "Bed and breakfast in Asheville · ★5.0 · 1 bedroom · 1 bed · 1 private bath",
         "Private room",
         28801,
         279,
         0.23,
         151
        ],
        [
         "Rental unit in Asheville · ★4.83 · 1 bedroom · 1 bed · 2 shared baths",
         "Private room",
         28801,
         97,
         1.7,
         337
        ],
        [
         "Home in Fletcher · ★4.97 · 1 bedroom · 1 bed · 1 private bath",
         "Private room",
         28732,
         44,
         3.5,
         32
        ],
        [
         "Home in Asheville · ★4.79 · 1 bedroom · 1 bed · 1 shared bath",
         "Private room",
         28806,
         45,
         1.14,
         0
        ],
        [
         "Home in Asheville · ★4.99 · Studio · 1 bed · 1 private bath",
         "Private room",
         28806,
         120,
         1.59,
         168
        ],
        [
         "Home in Asheville · ★4.88 · 1 bedroom · 1 bed · 1 private bath",
         "Private room",
         28801,
         75,
         1.31,
         0
        ],
        [
         "Home in Candler · ★4.87 · 1 bedroom · 1 bed · 1 shared bath",
         "Private room",
         28715,
         45,
         2.27,
         336
        ],
        [
         "Home in Candler · ★4.87 · 1 bedroom · 1 bed · 1 shared bath",
         "Private room",
         28715,
         59,
         1.99,
         34
        ],
        [
         "Home in Asheville · 1 bedroom · 1 bed · 1 shared bath",
         "Private room",
         28805,
         155,
         null,
         344
        ],
        [
         "Home in Asheville · ★4.89 · 1 bedroom · 1 bed · 1 shared bath",
         "Private room",
         28801,
         69,
         3.51,
         23
        ],
        [
         "Home in Asheville · ★4.91 · 1 bedroom · 1 bed · 1 shared bath",
         "Private room",
         28806,
         48,
         7.73,
         353
        ],
        [
         "Home in Asheville · ★4.67 · 1 bedroom · 1 bed · 1 private bath",
         "Private room",
         28806,
         125,
         1.32,
         365
        ],
        [
         "Home in Asheville · ★4.90 · 1 bedroom · 1 bed · 1 shared bath",
         "Private room",
         28806,
         47,
         8.22,
         358
        ],
        [
         "Guest suite in Asheville · 1 bedroom · 1 bed · 1 private bath",
         "Private room",
         28805,
         700,
         null,
         90
        ],
        [
         "Home in Asheville · ★4.86 · 1 bedroom · 1 bed · 1 shared bath",
         "Private room",
         28801,
         62,
         4.18,
         69
        ],
        [
         "Home in Asheville · ★4.94 · 1 bedroom · 1 bed · 1 private bath",
         "Private room",
         28803,
         68,
         0.93,
         0
        ],
        [
         "Home in Asheville · ★4.88 · 1 bedroom · 3 beds · 1 private bath",
         "Private room",
         28806,
         72,
         4.89,
         57
        ],
        [
         "Home in Asheville · ★4.94 · 1 bedroom · 1 bed · 1 private bath",
         "Private room",
         28806,
         95,
         0.93,
         339
        ],
        [
         "Condo in Asheville · ★4.85 · 1 bedroom · 1 bed · 1 shared bath",
         "Private room",
         28803,
         80,
         0.48,
         5
        ],
        [
         "Guest suite in Asheville · ★5.0 · 2 bedrooms · 2 beds · 1 shared bath",
         "Private room",
         28801,
         225,
         0.77,
         362
        ],
        [
         "Home in Asheville · ★4.89 · 1 bedroom · 1 bed · 1 private bath",
         "Private room",
         28801,
         60,
         3.84,
         67
        ],
        [
         "Home in Asheville · ★5.0 · 1 bedroom · 1 bed · 1 private bath",
         "Private room",
         28803,
         85,
         0.13,
         140
        ],
        [
         "Home in Asheville · ★4.97 · 1 bedroom · 1 bed · 1 private bath",
         "Private room",
         28801,
         86,
         0.74,
         0
        ],
        [
         "Home in Asheville · ★4.96 · 18 bedrooms · 1 bed · 1 private bath",
         "Private room",
         28801,
         106,
         0.51,
         362
        ],
        [
         "Home in Asheville · ★5.0 · 1 bedroom · 1 bed · 1.5 baths",
         "Private room",
         28806,
         77,
         0.82,
         136
        ],
        [
         "Home in Asheville · ★4.90 · 1 bedroom · 2 beds · 1 private bath",
         "Private room",
         28801,
         67,
         3.72,
         44
        ],
        [
         "Guest suite in Asheville · ★4.97 · 1 bedroom · 1 bed · 1 private bath",
         "Private room",
         28806,
         99,
         3.26,
         31
        ],
        [
         "Townhouse in Asheville · ★5.0 · 1 bedroom · 2 beds · 1 private bath",
         "Private room",
         28805,
         150,
         0.09,
         178
        ],
        [
         "Home in Asheville · ★5.0 · 1 bedroom · 1 bed · 1 private bath",
         "Private room",
         28803,
         136,
         0.11,
         253
        ],
        [
         "Guest suite in Asheville · ★4.96 · 1 bedroom · 1 bed · 1 private bath",
         "Private room",
         28801,
         295,
         1.41,
         168
        ],
        [
         "Treehouse in Asheville · ★4.79 · 1 bedroom · 1 private bath",
         "Private room",
         28806,
         28,
         2.22,
         175
        ],
        [
         "Home in Asheville · ★4.99 · 1 bedroom · 1 bed · 1 private bath",
         "Private room",
         28805,
         46,
         1.53,
         130
        ],
        [
         "Home in Arden · ★4.89 · 1 bedroom · 1 bed · 1.5 baths",
         "Private room",
         28704,
         44,
         0.39,
         16
        ],
        [
         "Home in Asheville · ★5.0 · 1 bedroom · 1 bed · 1 private bath",
         "Private room",
         28803,
         90,
         0.09,
         47
        ],
        [
         "Boutique hotel in Asheville · 1 bedroom · 1 bed · 1 bath",
         "Private room",
         28801,
         999,
         null,
         0
        ],
        [
         "Home in Asheville · ★4.92 · 1 bedroom · 1 bed · 1 shared bath",
         "Private room",
         28803,
         88,
         1.25,
         199
        ],
        [
         "Home in Asheville · ★4.81 · 1 bedroom · 1 bed · 1 shared bath",
         "Private room",
         28806,
         81,
         0.54,
         131
        ],
        [
         "Boutique hotel in Asheville · 1 bedroom · 1 bed · 1 bath",
         "Private room",
         28801,
         999,
         null,
         0
        ],
        [
         "Boutique hotel in Asheville · 1 bedroom · 1 bed · 1 bath",
         "Private room",
         28801,
         999,
         null,
         0
        ],
        [
         "Boutique hotel in Asheville · 1 bedroom · 1 bed · 1 bath",
         "Private room",
         28801,
         999,
         0.04,
         0
        ],
        [
         "Boutique hotel in Asheville · 1 bedroom · 1 bed · 1 bath",
         "Private room",
         28801,
         999,
         null,
         0
        ],
        [
         "Boutique hotel in Asheville · 1 bedroom · 1 bed · 1 bath",
         "Private room",
         28801,
         999,
         null,
         0
        ],
        [
         "Boutique hotel in Asheville · 1 bedroom · 1 bed · 1 bath",
         "Private room",
         28801,
         999,
         null,
         0
        ],
        [
         "Boutique hotel in Asheville · 1 bedroom · 1 bed · 1 bath",
         "Private room",
         28801,
         999,
         null,
         0
        ],
        [
         "Home in Asheville · 1 bedroom · 2 beds · 1 shared bath",
         "Private room",
         28806,
         54,
         2.0,
         316
        ],
        [
         "Home in Asheville · ★4.86 · 1 bedroom · 1 bed · 1 private bath",
         "Private room",
         28804,
         66,
         0.32,
         187
        ],
        [
         "Guest suite in Asheville · ★4.98 · 1 bedroom · 1 bed · 1 private bath",
         "Private room",
         28806,
         79,
         4.62,
         141
        ],
        [
         "Guest suite in Asheville · ★5.0 · 1 bedroom · 2 beds · 1 private bath",
         "Private room",
         28801,
         249,
         0.23,
         304
        ],
        [
         "Home in Asheville · ★4.97 · 1 bedroom · 1 bed · 1 shared bath",
         "Private room",
         28806,
         61,
         1.28,
         89
        ],
        [
         "Home in Asheville · ★5.0 · 1 bedroom · 1 bed · 1 shared bath",
         "Private room",
         28803,
         41,
         0.45,
         65
        ],
        [
         "Home in Asheville · 1 bedroom · 1 bed · 1 private bath",
         "Private room",
         28803,
         37,
         0.05,
         281
        ],
        [
         "Home in Asheville · ★4.81 · 1 bedroom · 1 bed · 1 shared bath",
         "Private room",
         28801,
         65,
         2.05,
         82
        ],
        [
         "Home in Asheville · ★4.88 · 1 bedroom · 1 bed · 1 private bath",
         "Private room",
         28803,
         42,
         1.46,
         144
        ],
        [
         "Home in Woodfin · ★4.91 · 1 bedroom · 1 bed · 1 private bath",
         "Private room",
         28804,
         52,
         3.43,
         124
        ],
        [
         "Home in Asheville · ★4.95 · 1 bedroom · 1 bed · 1 private bath",
         "Private room",
         28803,
         156,
         0.48,
         89
        ],
        [
         "Home in Asheville · ★4.94 · 1 bedroom · 1 bed · 1 shared bath",
         "Private room",
         28804,
         49,
         0.75,
         357
        ],
        [
         "Townhouse in Asheville · ★4.95 · 1 bedroom · 1 bed · 1.5 baths",
         "Private room",
         28806,
         55,
         4.53,
         76
        ],
        [
         "Home in Asheville · ★4.88 · 1 bedroom · 1 bed · 1 private bath",
         "Private room",
         28803,
         47,
         8.65,
         27
        ],
        [
         "Home in Asheville · ★4.93 · 1 bedroom · 1 bed · 1 private bath",
         "Private room",
         28806,
         65,
         0.96,
         46
        ],
        [
         "Home in Asheville · ★4.97 · 1 bedroom · 1 bed · 1 private bath",
         "Private room",
         28806,
         140,
         2.43,
         63
        ],
        [
         "Guest suite in Arden · ★5.0 · 1 bedroom · 2 beds · 1.5 baths",
         "Private room",
         28704,
         77,
         3.36,
         244
        ],
        [
         "Home in Asheville · ★4.67 · 1 bedroom · 1 bed · 1 shared bath",
         "Private room",
         28801,
         50,
         0.68,
         0
        ],
        [
         "Hostel in Asheville · ★4.86 · 1 bedroom · 1 bed · 1 shared bath",
         "Private room",
         28801,
         113,
         0.65,
         155
        ],
        [
         "Hostel in Asheville · ★4.77 · 1 bedroom · 1 bed · 1 shared bath",
         "Private room",
         28801,
         81,
         3.67,
         154
        ],
        [
         "Home in Asheville · ★4.89 · 1 bedroom · 1 bed · 1 private bath",
         "Private room",
         28805,
         47,
         6.25,
         71
        ],
        [
         "Guest suite in Asheville · ★4.99 · 1 bedroom · 2 beds · 1 private bath",
         "Private room",
         28806,
         101,
         2.07,
         72
        ],
        [
         "Home in Asheville · ★4.76 · 1 bedroom · 1 bed · 1 private bath",
         "Private room",
         28806,
         47,
         1.09,
         186
        ],
        [
         "Guesthouse in Asheville · ★5.0 · Studio · 1 bed · 1 private bath",
         "Private room",
         28806,
         154,
         1.49,
         73
        ],
        [
         "Bungalow in Asheville · ★4.91 · 1 bedroom · 1 bed · 1 shared bath",
         "Private room",
         28803,
         44,
         2.75,
         207
        ],
        [
         "Home in Asheville · ★4.76 · 2 bedrooms · 2 beds · 1 private bath",
         "Private room",
         28805,
         76,
         1.43,
         72
        ],
        [
         "Home in Asheville · ★5.0 · 1 bedroom · 2 beds · 1.5 baths",
         "Private room",
         28806,
         93,
         0.27,
         0
        ],
        [
         "Bungalow in Asheville · ★4.92 · 1 bedroom · 1 bed · 1 shared bath",
         "Private room",
         28803,
         43,
         4.16,
         315
        ],
        [
         "Home in Asheville · ★5.0 · 1 bedroom · 2 beds · 1 private bath",
         "Private room",
         28801,
         249,
         0.22,
         338
        ],
        [
         "Home in Asheville · ★4.98 · 1 bedroom · 1 private bath",
         "Private room",
         28806,
         80,
         2.03,
         32
        ],
        [
         "Treehouse in Asheville · ★4.71 · 1 bedroom · 1 bed · 1 shared bath",
         "Private room",
         28806,
         27,
         2.46,
         357
        ],
        [
         "Bed and breakfast in Asheville · ★5.0 · 1 bedroom · 1 bed · 1 bath",
         "Private room",
         28801,
         226,
         0.19,
         171
        ],
        [
         "Bed and breakfast in Asheville · 1 bedroom · 1 bed · 1 bath",
         "Private room",
         28801,
         322,
         0.06,
         157
        ],
        [
         "Treehouse in Asheville · ★4.87 · 1 bedroom · 1 bed · 1 shared bath",
         "Private room",
         28806,
         29,
         1.25,
         359
        ],
        [
         "Home in Asheville · ★4.81 · 1 bedroom · 1 bed · 1 private bath",
         "Private room",
         28801,
         110,
         1.64,
         346
        ],
        [
         "Bed and breakfast in Asheville · 10 bedrooms · 1 bed · 1 private bath",
         "Private room",
         28801,
         330,
         0.03,
         306
        ],
        [
         "Bed and breakfast in Asheville · 1 bedroom · 1 bed · 1 private bath",
         "Private room",
         28801,
         364,
         0.07,
         308
        ],
        [
         "Bed and breakfast in Asheville · 1 bedroom · 1 bed · 1 private bath",
         "Private room",
         28801,
         341,
         0.03,
         300
        ],
        [
         "Bed and breakfast in Asheville · 1 bedroom · 1 bed · 1 private bath",
         "Private room",
         28801,
         330,
         null,
         300
        ],
        [
         "Home in Asheville · ★4.98 · 1 bedroom · 1 bed · 1.5 baths",
         "Private room",
         28806,
         110,
         1.26,
         325
        ],
        [
         "Home in Asheville · ★5.0 · 1 bedroom · 1 bed · 1.5 baths",
         "Private room",
         28804,
         110,
         0.79,
         323
        ],
        [
         "Bed and breakfast in Asheville · ★5.0 · 1 bedroom · 1 bed · 1 bath",
         "Private room",
         28801,
         296,
         0.09,
         160
        ],
        [
         "Bed and breakfast in Asheville · 1 bedroom · 1 bed · 1 bath",
         "Private room",
         28801,
         235,
         null,
         144
        ],
        [
         "Home in Asheville · ★4.94 · Studio · 1 bed · 1 private bath",
         "Private room",
         28804,
         150,
         1.3,
         86
        ],
        [
         "Bed and breakfast in Asheville · 1 bedroom · 1 bed · 1 bath",
         "Private room",
         28801,
         306,
         null,
         300
        ],
        [
         "Bed and breakfast in Asheville · 1 bedroom · 1 bed · 1 private bath",
         "Private room",
         28801,
         298,
         0.03,
         324
        ],
        [
         "Home in Asheville · ★4.81 · 1 bedroom · 1 bed · 1.5 shared baths",
         "Private room",
         28801,
         94,
         2.76,
         90
        ],
        [
         "Home in Asheville · ★4.80 · 1 bedroom · 1 bed · 1.5 shared baths",
         "Private room",
         28801,
         48,
         2.38,
         90
        ],
        [
         "Guest suite in Asheville · ★4.96 · 1 bedroom · 2 beds · 1 private bath",
         "Private room",
         28806,
         98,
         2.38,
         26
        ],
        [
         "Home in Asheville · ★4.85 · 1 bedroom · 1 bed · 1.5 shared baths",
         "Private room",
         28801,
         43,
         2.35,
         90
        ],
        [
         "Home in Asheville · ★4.91 · 1 bedroom · 1 bed · 1.5 shared baths",
         "Private room",
         28801,
         42,
         2.36,
         88
        ],
        [
         "Guest suite in Asheville · ★5.0 · 1 bedroom · 1 bed · 1 private bath",
         "Private room",
         28804,
         300,
         0.15,
         0
        ],
        [
         "Home in Asheville · ★5.0 · 2 bedrooms · 2 beds · 2 baths",
         "Private room",
         28805,
         69,
         0.24,
         139
        ],
        [
         "Home in Asheville · ★4.99 · 1 bedroom · 2 beds · 1 private bath",
         "Private room",
         28806,
         135,
         7.64,
         157
        ],
        [
         "Home in Arden · ★4.66 · 1 bedroom · 1 bed · 1 private bath",
         "Private room",
         28704,
         70,
         1.25,
         180
        ],
        [
         "Home in Asheville · ★4.91 · 1 bedroom · 1 bed · 1 private bath",
         "Private room",
         28806,
         100,
         2.94,
         63
        ],
        [
         "Home in Asheville · ★4.97 · 1 bedroom · 1 bed · 1 private bath",
         "Private room",
         28806,
         140,
         1.16,
         0
        ],
        [
         "Place to stay in Asheville · ★4.91 · 1 bed · Shared half-bath",
         "Private room",
         28806,
         29,
         2.01,
         89
        ],
        [
         "Townhouse in Arden · ★4.92 · 2 bedrooms · 2 beds · 1.5 baths",
         "Private room",
         28704,
         145,
         0.38,
         0
        ],
        [
         "Guest suite in Asheville · ★5.0 · 1 bedroom · 1 bed · 1 private bath",
         "Private room",
         28806,
         88,
         1.57,
         1
        ],
        [
         "Bungalow in Asheville · ★5.0 · 1 bedroom · 1 bed · 1 private bath",
         "Private room",
         28806,
         70,
         0.33,
         87
        ],
        [
         "Guest suite in Asheville · ★5.0 · 1 bedroom · 1 bed · 1 private bath",
         "Private room",
         28806,
         65,
         3.81,
         72
        ],
        [
         "Bed and breakfast in Asheville · 1 bedroom · 1 bed · 1 private bath",
         "Private room",
         28801,
         189,
         0.09,
         320
        ],
        [
         "Guest suite in Asheville · ★5.0 · 1 bedroom · 1 bed · 1 private bath",
         "Private room",
         28806,
         107,
         2.61,
         78
        ],
        [
         "Guest suite in Asheville · ★4.95 · 1 bedroom · 1 bed · 1 private bath",
         "Private room",
         28801,
         102,
         3.34,
         119
        ],
        [
         "Home in Asheville · ★5.0 · 1 bedroom · 1 bed · 1 shared bath",
         "Private room",
         28803,
         91,
         1.42,
         364
        ],
        [
         "Bed and breakfast in Asheville · 6 bedrooms · 10 beds · 6 baths",
         "Private room",
         28801,
         1650,
         0.07,
         83
        ],
        [
         "Guest suite in Asheville · ★4.96 · 1 bedroom · 1 bed · 1 private bath",
         "Private room",
         28805,
         92,
         3.14,
         16
        ],
        [
         "Home in Asheville · ★4.89 · 1 bedroom · 1 bed · 1 private bath",
         "Private room",
         28803,
         92,
         2.28,
         75
        ],
        [
         "Guest suite in Asheville · ★4.88 · 1 bedroom · 2 beds · 1 private bath",
         "Private room",
         28804,
         74,
         3.84,
         73
        ],
        [
         "Hostel in Asheville · ★4.25 · 7 bedrooms · 7 beds · 2 shared baths",
         "Private room",
         28801,
         575,
         0.31,
         276
        ],
        [
         "Loft in Asheville · ★4.93 · 1 bedroom · 1 bed · 1 private bath",
         "Private room",
         28806,
         89,
         2.88,
         14
        ],
        [
         "Home in Asheville · 1 bedroom · 1 bed · 1 private bath",
         "Private room",
         28801,
         41,
         null,
         0
        ],
        [
         "Home in Candler · ★4.98 · 1 bedroom · 1 bed · 1 private bath",
         "Private room",
         28715,
         70,
         7.51,
         169
        ],
        [
         "Bungalow in Asheville · ★4.97 · 1 bedroom · 1 bed · 1 private bath",
         "Private room",
         28801,
         99,
         12.24,
         44
        ],
        [
         "Home in Asheville · ★5.0 · 1 bedroom · 1 bed · 1 private bath",
         "Private room",
         28806,
         100,
         1.08,
         179
        ],
        [
         "Home in Asheville · ★5.0 · 1 bedroom · 1 bed · 2 baths",
         "Private room",
         28804,
         77,
         0.35,
         89
        ],
        [
         "Home in Asheville · ★5.0 · 1 bedroom · 1 bed · 1 shared bath",
         "Private room",
         28806,
         123,
         0.13,
         342
        ],
        [
         "Townhouse in Asheville · ★4.94 · 1 bedroom · 1 bed · 1.5 baths",
         "Private room",
         28806,
         56,
         4.63,
         75
        ],
        [
         "Home in Asheville · ★4.95 · 1 bedroom · 1 bed · 1 private bath",
         "Private room",
         28806,
         60,
         3.4,
         354
        ],
        [
         "Guest suite in Fletcher · ★5.0 · 1 bedroom · 1 private bath",
         "Private room",
         28732,
         65,
         1.9,
         170
        ],
        [
         "Guest suite in Arden · ★4.94 · 1 bedroom · 1 bed · 1 private bath",
         "Private room",
         28704,
         62,
         2.23,
         310
        ],
        [
         "Home in Asheville · 1 bedroom · 1 bed · 1.5 baths",
         "Private room",
         28803,
         56,
         null,
         0
        ],
        [
         "Home in Asheville · ★4.95 · 1 bedroom · 1 bed · 1 shared bath",
         "Private room",
         28806,
         59,
         0.85,
         90
        ],
        [
         "Guest suite in Asheville · ★4.83 · 1 bedroom · 1 bed · 1 private bath",
         "Private room",
         28806,
         45,
         2.05,
         294
        ],
        [
         "Guest suite in Asheville · ★4.84 · 1 bedroom · 1 bed · 1 private bath",
         "Private room",
         28806,
         87,
         4.41,
         174
        ],
        [
         "Home in Asheville · 1 bedroom · 1 bed · 1 shared bath",
         "Private room",
         28806,
         50,
         null,
         345
        ],
        [
         "Home in Asheville · ★4.96 · 1 bedroom · 2 beds · 1 private bath",
         "Private room",
         28804,
         82,
         4.15,
         300
        ],
        [
         "Townhouse in Asheville · ★5.0 · 1 bedroom · 1 bed · 1.5 baths",
         "Private room",
         28806,
         80,
         0.92,
         32
        ],
        [
         "Guest suite in Asheville · ★5.0 · 1 bedroom · 1 bed · 1 private bath",
         "Private room",
         28801,
         150,
         3.08,
         221
        ],
        [
         "Home in Asheville · ★5.0 · 1 bedroom · 1 bed · 1 private bath",
         "Private room",
         28806,
         70,
         0.37,
         0
        ],
        [
         "Boutique hotel in Asheville · ★5.0 · 2 bedrooms · 2 beds · 2 baths",
         "Private room",
         28801,
         893,
         0.34,
         246
        ],
        [
         "Boutique hotel in Asheville · 2 bedrooms · 1 bed · 2 baths",
         "Private room",
         28801,
         1033,
         null,
         310
        ],
        [
         "Boutique hotel in Asheville · ★5.0 · 2 bedrooms · 2 beds · 2 baths",
         "Private room",
         28801,
         596,
         0.16,
         258
        ],
        [
         "Boutique hotel in Asheville · 2 bedrooms · 2 beds · 2 baths",
         "Private room",
         28801,
         830,
         0.1,
         288
        ],
        [
         "Boutique hotel in Asheville · ★5.0 · 2 bedrooms · 2 beds · 2 baths",
         "Private room",
         28801,
         501,
         0.91,
         220
        ],
        [
         "Guest suite in Asheville · ★4.96 · 1 bedroom · 1 bed · 1 private bath",
         "Private room",
         28806,
         60,
         2.44,
         314
        ],
        [
         "Home in Asheville · 2 bedrooms · 2 beds · 1 private bath",
         "Private room",
         28806,
         196,
         0.21,
         175
        ],
        [
         "Home in Arden · ★4.97 · 1 bedroom · 1 bed · 1 private bath",
         "Private room",
         28704,
         59,
         1.41,
         0
        ],
        [
         "Home in Woodfin · ★4.75 · 1 bedroom · 1 bed · 1 private bath",
         "Private room",
         28804,
         72,
         0.81,
         157
        ],
        [
         "Home in Woodfin · ★4.88 · 1 bedroom · 1 bed · 1 private bath",
         "Private room",
         28804,
         69,
         0.4,
         118
        ],
        [
         "Home in Asheville · ★5.0 · 1 bedroom · 1 bed · 1 shared bath",
         "Private room",
         28801,
         121,
         0.29,
         0
        ],
        [
         "Home in Asheville · ★4.92 · 1 bedroom · 1 bed · 1 private bath",
         "Private room",
         28801,
         72,
         4.34,
         129
        ],
        [
         "Rental unit in Arden · ★4.77 · 2 bedrooms · 2 beds · 2 baths",
         "Private room",
         28704,
         344,
         1.41,
         54
        ],
        [
         "Hut in Asheville · ★4.70 · 1 bedroom · 1 shared bath",
         "Private room",
         28806,
         27,
         1.49,
         354
        ],
        [
         "Rental unit in Asheville · ★5.0 · 1 bedroom · 1 private bath",
         "Private room",
         28806,
         56,
         0.36,
         346
        ],
        [
         "Home in Asheville · ★5.0 · 1 bedroom · 1 bed · 1 private bath",
         "Private room",
         28806,
         92,
         0.57,
         358
        ],
        [
         "Home in Woodfin · ★4.98 · 1 bedroom · 1 bed · 1 private bath",
         "Private room",
         28804,
         74,
         3.48,
         344
        ],
        [
         "Home in Asheville · ★4.85 · 1 bedroom · 1 bed · 1 private bath",
         "Private room",
         28803,
         109,
         2.34,
         177
        ],
        [
         "Home in Asheville · ★5.0 · 1 bedroom · 1 bed · 1 shared bath",
         "Private room",
         28803,
         122,
         0.34,
         365
        ],
        [
         "Home in Asheville · ★5.0 · 1 bedroom · 1 bed · 1 shared bath",
         "Private room",
         28806,
         50,
         0.17,
         0
        ],
        [
         "Rental unit in Asheville · 1 bedroom · 1 shared bath",
         "Private room",
         28805,
         75,
         null,
         0
        ],
        [
         "Home in Asheville · ★4.97 · 1 bedroom · 1 bed · 1 shared bath",
         "Private room",
         28806,
         49,
         2.08,
         255
        ],
        [
         "Home in Asheville · ★4.83 · 1 bedroom · 1 shared bath",
         "Private room",
         28806,
         50,
         2.35,
         226
        ],
        [
         "Home in Asheville · ★4.84 · 2 bedrooms · 2 beds · 1 private bath",
         "Private room",
         28806,
         82,
         1.4,
         73
        ],
        [
         "Rental unit in Asheville · 1 bedroom · 1 bed · 1 shared bath",
         "Private room",
         28801,
         65,
         0.14,
         365
        ],
        [
         "Home in Asheville · 1 bedroom · 1 bed · 1 private bath",
         "Private room",
         28806,
         40,
         null,
         334
        ],
        [
         "Townhouse in Arden · ★5.0 · 1 bedroom · 1 bed · 1.5 baths",
         "Private room",
         28704,
         70,
         1.44,
         260
        ],
        [
         "Home in Arden · ★4.97 · 1 bedroom · 1 bed · 1 private bath",
         "Private room",
         28704,
         51,
         4.73,
         166
        ],
        [
         "Camper/RV in Asheville · ★4.86 · 1 bed · Half-bath",
         "Private room",
         28806,
         35,
         0.57,
         176
        ],
        [
         "Guest suite in Asheville · ★5.0 · 1 bedroom · 2 beds · 1 private bath",
         "Private room",
         28804,
         125,
         2.47,
         240
        ],
        [
         "Bungalow in Asheville · ★4.89 · 1 bedroom · 1 bed · 1 shared bath",
         "Private room",
         28801,
         74,
         4.14,
         127
        ],
        [
         "Home in Arden · ★4.80 · 1 bedroom · 1 bed · 1 shared bath",
         "Private room",
         28704,
         65,
         0.38,
         301
        ],
        [
         "Home in Asheville · ★5.0 · 1 bedroom · 1 bed · 1 private bath",
         "Private room",
         28806,
         75,
         1.15,
         170
        ],
        [
         "Home in Arden · ★5.0 · 1 bedroom · 1 bed · 1 private bath",
         "Private room",
         28704,
         47,
         0.23,
         145
        ],
        [
         "Guest suite in Arden · ★4.99 · 1 bedroom · 1 bed · 1 private bath",
         "Private room",
         28704,
         84,
         5.85,
         129
        ],
        [
         "Home in Asheville · 1 bedroom · 1 bed · 1 private bath",
         "Private room",
         28803,
         64,
         null,
         179
        ],
        [
         "Home in Asheville · ★4.86 · 1 bedroom · 1 bed · 1 private bath",
         "Private room",
         28805,
         69,
         0.58,
         320
        ],
        [
         "Boutique hotel in Asheville · ★4.74 · 1 bedroom · 2 beds · 1 private bath",
         "Private room",
         28803,
         90,
         4.65,
         212
        ],
        [
         "Boutique hotel in Asheville · ★4.53 · 1 bedroom · 2 beds · 1 private bath",
         "Private room",
         28803,
         88,
         3.66,
         213
        ],
        [
         "Home in Asheville · 1 bedroom · 1 bed · 1 private bath",
         "Private room",
         28804,
         94,
         null,
         89
        ],
        [
         "Home in Asheville · ★4.88 · 1 bedroom · 1 bed · 1 private bath",
         "Private room",
         28806,
         60,
         4.34,
         82
        ],
        [
         "Boutique hotel in Asheville · ★4.47 · 1 bedroom · 2 beds · 1 private bath",
         "Private room",
         28803,
         119,
         1.33,
         213
        ],
        [
         "Guest suite in Asheville · ★4.94 · 1 bedroom · 1 bed · 1 private bath",
         "Private room",
         28806,
         54,
         4.0,
         260
        ],
        [
         "Home in Arden · 1 bedroom · 1 bed · 1 private bath",
         "Private room",
         28704,
         999,
         0.1,
         90
        ],
        [
         "Home in Asheville · ★4.85 · 1 bedroom · 1 bed · 1 private bath",
         "Private room",
         28806,
         68,
         4.43,
         326
        ],
        [
         "Home in Asheville · ★4.92 · 1 bedroom · 2 beds · 1 private bath",
         "Private room",
         28806,
         80,
         2.85,
         78
        ],
        [
         "Home in Asheville · ★5.0 · 1 bedroom · 1 bed · 1 private bath",
         "Private room",
         28803,
         66,
         2.2,
         149
        ],
        [
         "Home in Asheville · ★5.0 · 1 bedroom · 1 bed · 1 private bath",
         "Private room",
         28806,
         105,
         4.27,
         324
        ],
        [
         "Home in Arden · ★5.0 · 1 bedroom · 1 bed · 1 private bath",
         "Private room",
         28704,
         75,
         1.74,
         212
        ],
        [
         "Home in Asheville · 1 bedroom · 1 bed · 1 shared bath",
         "Private room",
         28806,
         50,
         null,
         257
        ],
        [
         "Home in Asheville · ★5.0 · 1 bedroom · 1 bed · 1 private bath",
         "Private room",
         28806,
         55,
         0.79,
         365
        ],
        [
         "Home in Asheville · ★4.33 · 1 bedroom · 1 bed · 1 shared bath",
         "Private room",
         28804,
         82,
         0.38,
         365
        ],
        [
         "Home in Asheville · ★5.0 · 1 bedroom · 1 bed · 1 private bath",
         "Private room",
         28803,
         85,
         1.66,
         349
        ],
        [
         "Home in Asheville · ★5.0 · 2 bedrooms · 2 beds · 1 shared bath",
         "Private room",
         28806,
         75,
         1.05,
         332
        ],
        [
         "Guest suite in Asheville · ★4.91 · 1 bedroom · 2 beds · 1 private bath",
         "Private room",
         28805,
         145,
         3.79,
         310
        ],
        [
         "Home in Asheville · 2 bedrooms · 2 beds · 1 bath",
         "Private room",
         28801,
         110,
         0.25,
         32
        ],
        [
         "Boutique hotel in Asheville · ★5.0 · 4 bedrooms · 5 beds · 4.5 shared baths",
         "Private room",
         28801,
         1244,
         0.93,
         254
        ],
        [
         "Guest suite in Asheville · ★5.0 · 1 bedroom · 1 bed · 1 private bath",
         "Private room",
         28806,
         111,
         0.43,
         56
        ],
        [
         "Home in Asheville · ★4.84 · 1 bedroom · 1 bed · 1 private bath",
         "Private room",
         28805,
         70,
         2.52,
         160
        ],
        [
         "Home in Asheville · 1 bedroom · 1 bed · 1 private bath",
         "Private room",
         28805,
         95,
         0.13,
         327
        ],
        [
         "Home in Asheville · ★5.0 · 1 bedroom · 1 bed · 1 private bath",
         "Private room",
         28804,
         57,
         2.92,
         318
        ],
        [
         "Home in Asheville · ★4.92 · 1 bedroom · 1 bed · 1 shared bath",
         "Private room",
         28806,
         51,
         3.54,
         39
        ],
        [
         "Home in Asheville · 1 bedroom · 1 bed · 1 private bath",
         "Private room",
         28806,
         79,
         null,
         0
        ],
        [
         "Home in Asheville · 1 bedroom · 1 bed · 1 shared bath",
         "Private room",
         28806,
         69,
         null,
         348
        ],
        [
         "Home in Fletcher · ★4.92 · 1 bedroom · 1 bed · 1 private bath",
         "Private room",
         28732,
         83,
         3.16,
         82
        ],
        [
         "Home in Buncombe County · 4 bedrooms · 4 beds · 2.5 baths",
         "Private room",
         28715,
         34,
         null,
         364
        ],
        [
         "Home in Woodfin · ★5.0 · 1 bedroom · 1 bed · 1 shared bath",
         "Private room",
         28804,
         89,
         2.28,
         89
        ],
        [
         "Home in Asheville · 1 bedroom · 1 bed · 1 shared bath",
         "Private room",
         28806,
         47,
         null,
         316
        ],
        [
         "Home in Asheville · 1 bedroom · 1 bed · 1 private bath",
         "Private room",
         28803,
         77,
         0.5,
         144
        ],
        [
         "Bed and breakfast in Asheville · 1 bedroom · 1 bed · 1 private bath",
         "Private room",
         28801,
         238,
         0.32,
         280
        ],
        [
         "Home in Asheville · ★New · 1 bedroom · 1 bed · 1 shared bath",
         "Private room",
         28804,
         65,
         null,
         109
        ],
        [
         "Bed and breakfast in Asheville · 1 bedroom · 1 bed · 1 private bath",
         "Private room",
         28801,
         238,
         null,
         293
        ],
        [
         "Bed and breakfast in Asheville · 1 bedroom · 1 bed · 1 private bath",
         "Private room",
         28801,
         278,
         null,
         292
        ],
        [
         "Bed and breakfast in Asheville · 1 bedroom · 1 bed · 1 private bath",
         "Private room",
         28801,
         256,
         null,
         286
        ],
        [
         "Home in Asheville · 1 bedroom · 1 bed · 1.5 baths",
         "Private room",
         28804,
         40,
         null,
         317
        ],
        [
         "Bed and breakfast in Asheville · 1 bedroom · 1 bed · 1 private bath",
         "Private room",
         28801,
         256,
         null,
         296
        ],
        [
         "Bed and breakfast in Asheville · 1 bedroom · 1 bed · 1 private bath",
         "Private room",
         28801,
         256,
         null,
         328
        ],
        [
         "Bed and breakfast in Asheville · 1 bedroom · 2 beds · 1 private bath",
         "Private room",
         28801,
         278,
         null,
         322
        ],
        [
         "Home in Asheville · 2 bedrooms · 3 beds · 1 private bath",
         "Private room",
         28806,
         75,
         null,
         85
        ],
        [
         "Home in Asheville · ★4.80 · 1 bedroom · 1 bed · 1 private bath",
         "Private room",
         28805,
         92,
         1.55,
         77
        ],
        [
         "Home in Asheville · ★5.0 · 2 bedrooms · 2 beds · 1 private bath",
         "Private room",
         28806,
         93,
         5.43,
         60
        ],
        [
         "Home in Woodfin · ★4.83 · 1 bedroom · 1 bed · 1 shared bath",
         "Private room",
         28804,
         88,
         1.94,
         89
        ],
        [
         "Home in Asheville · ★5.0 · 1 bedroom · 1 bed · 1 private bath",
         "Private room",
         28806,
         49,
         2.67,
         49
        ],
        [
         "Home in Asheville · ★5.0 · 2 bedrooms · 2 beds · 2 shared baths",
         "Private room",
         28806,
         61,
         5.45,
         54
        ],
        [
         "Rental unit in Woodfin · 1 bedroom · 1 bed · 1 private bath",
         "Private room",
         28804,
         100,
         1.0,
         361
        ],
        [
         "Home in Asheville · ★5.0 · 1 bedroom · 1 bed · 1 private bath",
         "Private room",
         28805,
         54,
         2.14,
         334
        ],
        [
         "Home in Asheville · 1 bedroom · 1 bed · 1 private bath",
         "Private room",
         28805,
         100,
         null,
         364
        ],
        [
         "Home in Asheville · ★5.0 · 1 bedroom · 1 bed · 1 private bath",
         "Private room",
         28806,
         49,
         3.69,
         60
        ],
        [
         "Home in Arden · ★New · 1 bedroom · 1 bed · 1 shared bath",
         "Private room",
         28704,
         30,
         1.0,
         321
        ],
        [
         "Home in Asheville · ★New · 1 bedroom · 1 bed · 1 bath",
         "Private room",
         28805,
         130,
         null,
         0
        ],
        [
         "Hotel in Asheville · ★4.75 · 2 bedrooms · 3 beds · 2 shared baths",
         "Private room",
         28803,
         210,
         5.85,
         363
        ],
        [
         "Home in Asheville · ★New · 1 bedroom · 1 bed · 1 bath",
         "Private room",
         28804,
         62,
         null,
         0
        ],
        [
         "Home in Asheville · ★New · 1 bedroom · 1 bed · 1 bath",
         "Private room",
         28806,
         55,
         null,
         2
        ],
        [
         "Home in Asheville · ★New · 1 bedroom · 1 bed · 1 private bath",
         "Private room",
         28801,
         63,
         null,
         335
        ],
        [
         "Home in Asheville · ★New · 1 bedroom · 1 bed · 1 bath",
         "Private room",
         28806,
         57,
         1.0,
         62
        ],
        [
         "Home in Asheville · ★New · 1 bedroom · 1 bed · 1 bath",
         "Private room",
         28806,
         82,
         1.0,
         352
        ],
        [
         "Home in Asheville · ★New · 1 bedroom · 1 bed · 1.5 baths",
         "Private room",
         28803,
         80,
         1.0,
         46
        ],
        [
         "Home in Asheville · ★5.0 · 1 bedroom · 1 bed · 1 shared bath",
         "Private room",
         28806,
         45,
         8.0,
         3
        ],
        [
         "Home in Asheville · ★New · 1 bedroom · 1 bed · 1 bath",
         "Private room",
         28801,
         79,
         null,
         123
        ],
        [
         "Hotel in Asheville · ★New · 1 bedroom · 2 beds · 1 bath",
         "Private room",
         28806,
         65,
         null,
         361
        ],
        [
         "Home in Asheville · ★New · 1 bedroom · 1 bed · 1 bath",
         "Private room",
         28804,
         91,
         null,
         365
        ],
        [
         "Home in Asheville · ★New · 1 bedroom · 1 bed · 1 bath",
         "Private room",
         28801,
         135,
         null,
         350
        ],
        [
         "Home in Asheville · ★New · 1 bedroom · 1 bed · 1 private bath",
         "Private room",
         28806,
         82,
         null,
         172
        ]
       ],
       "datasetInfos": [],
       "dbfsResultPath": null,
       "isJsonSchema": true,
       "metadata": {},
       "overflow": false,
       "plotOptions": {
        "customPlotOptions": {},
        "displayType": "table",
        "pivotAggregation": null,
        "pivotColumns": null,
        "xColumns": null,
        "yColumns": null
       },
       "removedWidgets": [],
       "schema": [
        {
         "metadata": "{}",
         "name": "name",
         "type": "\"string\""
        },
        {
         "metadata": "{}",
         "name": "room_type",
         "type": "\"string\""
        },
        {
         "metadata": "{}",
         "name": "neighbourhood",
         "type": "\"integer\""
        },
        {
         "metadata": "{}",
         "name": "price",
         "type": "\"integer\""
        },
        {
         "metadata": "{}",
         "name": "reviews_per_month",
         "type": "\"double\""
        },
        {
         "metadata": "{}",
         "name": "availability_365",
         "type": "\"integer\""
        }
       ],
       "type": "table"
      }
     },
     "output_type": "display_data"
    }
   ],
   "source": [
    "%sql\n",
    "SELECT name, room_type, neighbourhood, price, reviews_per_month, availability_365 FROM airbnb.listings\n",
    "WHERE room_type = getArgument('roomtypes')"
   ]
  },
  {
   "cell_type": "code",
   "execution_count": 0,
   "metadata": {
    "application/vnd.databricks.v1+cell": {
     "cellMetadata": {
      "implicitDf": true
     },
     "inputWidgets": {},
     "nuid": "73a6e389-6f03-4220-abc3-715558748762",
     "showTitle": false,
     "title": ""
    }
   },
   "outputs": [
    {
     "output_type": "display_data",
     "data": {
      "text/html": [
       "<style scoped>\n",
       "  .table-result-container {\n",
       "    max-height: 300px;\n",
       "    overflow: auto;\n",
       "  }\n",
       "  table, th, td {\n",
       "    border: 1px solid black;\n",
       "    border-collapse: collapse;\n",
       "  }\n",
       "  th, td {\n",
       "    padding: 5px;\n",
       "  }\n",
       "  th {\n",
       "    text-align: left;\n",
       "  }\n",
       "</style><div class='table-result-container'><table class='table-result'><thead style='background-color: white'><tr><th>room_type</th><th>average_price</th></tr></thead><tbody><tr><td>Shared room</td><td>61.333333333333336</td></tr><tr><td>Entire home/apt</td><td>184.07567185289957</td></tr><tr><td>Private room</td><td>139.60362694300517</td></tr></tbody></table></div>"
      ]
     },
     "metadata": {
      "application/vnd.databricks.v1+output": {
       "addedWidgets": {},
       "aggData": [],
       "aggError": "",
       "aggOverflow": false,
       "aggSchema": [],
       "aggSeriesLimitReached": false,
       "aggType": "",
       "arguments": {},
       "columnCustomDisplayInfos": {},
       "data": [
        [
         "Shared room",
         61.333333333333336
        ],
        [
         "Entire home/apt",
         184.07567185289957
        ],
        [
         "Private room",
         139.60362694300517
        ]
       ],
       "datasetInfos": [],
       "dbfsResultPath": null,
       "isJsonSchema": true,
       "metadata": {},
       "overflow": false,
       "plotOptions": {
        "customPlotOptions": {},
        "displayType": "barChart",
        "pivotAggregation": null,
        "pivotColumns": null,
        "xColumns": null,
        "yColumns": null
       },
       "removedWidgets": [],
       "schema": [
        {
         "metadata": "{}",
         "name": "room_type",
         "type": "\"string\""
        },
        {
         "metadata": "{}",
         "name": "average_price",
         "type": "\"double\""
        }
       ],
       "type": "table"
      }
     },
     "output_type": "display_data"
    }
   ],
   "source": [
    "%sql\n",
    "SELECT room_type, mean(price) as average_price\n",
    "FROM airbnb.listings\n",
    "WHERE room_type in ('Shared room', 'Private room', 'Entire home/apt')\n",
    "GROUP BY room_type"
   ]
  },
  {
   "cell_type": "code",
   "execution_count": 0,
   "metadata": {
    "application/vnd.databricks.v1+cell": {
     "cellMetadata": {
      "implicitDf": true
     },
     "inputWidgets": {},
     "nuid": "d1af0eed-4a24-434b-8ee0-20f1cb6de304",
     "showTitle": false,
     "title": ""
    }
   },
   "outputs": [
    {
     "output_type": "display_data",
     "data": {
      "text/html": [
       "<style scoped>\n",
       "  .table-result-container {\n",
       "    max-height: 300px;\n",
       "    overflow: auto;\n",
       "  }\n",
       "  table, th, td {\n",
       "    border: 1px solid black;\n",
       "    border-collapse: collapse;\n",
       "  }\n",
       "  th, td {\n",
       "    padding: 5px;\n",
       "  }\n",
       "  th {\n",
       "    text-align: left;\n",
       "  }\n",
       "</style><div class='table-result-container'><table class='table-result'><thead style='background-color: white'><tr><th>room_type</th><th>room_count</th></tr></thead><tbody><tr><td>Shared room</td><td>9</td></tr><tr><td>Entire home/apt</td><td>2828</td></tr><tr><td>Private room</td><td>386</td></tr></tbody></table></div>"
      ]
     },
     "metadata": {
      "application/vnd.databricks.v1+output": {
       "addedWidgets": {},
       "aggData": [],
       "aggError": "",
       "aggOverflow": false,
       "aggSchema": [],
       "aggSeriesLimitReached": false,
       "aggType": "",
       "arguments": {},
       "columnCustomDisplayInfos": {},
       "data": [
        [
         "Shared room",
         9
        ],
        [
         "Entire home/apt",
         2828
        ],
        [
         "Private room",
         386
        ]
       ],
       "datasetInfos": [],
       "dbfsResultPath": null,
       "isJsonSchema": true,
       "metadata": {},
       "overflow": false,
       "plotOptions": {
        "customPlotOptions": {
         "pieChart": [
          {
           "key": "donut",
           "value": true
          }
         ]
        },
        "displayType": "pieChart",
        "pivotAggregation": "sum",
        "pivotColumns": [],
        "xColumns": [
         "room_type"
        ],
        "yColumns": [
         "room_count"
        ]
       },
       "removedWidgets": [],
       "schema": [
        {
         "metadata": "{}",
         "name": "room_type",
         "type": "\"string\""
        },
        {
         "metadata": "{}",
         "name": "room_count",
         "type": "\"long\""
        }
       ],
       "type": "table"
      }
     },
     "output_type": "display_data"
    }
   ],
   "source": [
    "%sql\n",
    "SELECT room_type, count(*) as room_count\n",
    "FROM airbnb.listings\n",
    "WHERE room_type in ('Shared room', 'Private room', 'Entire home/apt')\n",
    "GROUP BY room_type"
   ]
  },
  {
   "cell_type": "code",
   "execution_count": 0,
   "metadata": {
    "application/vnd.databricks.v1+cell": {
     "cellMetadata": {},
     "inputWidgets": {},
     "nuid": "62df53a7-01f6-4abb-9403-ec9cace6a812",
     "showTitle": false,
     "title": ""
    }
   },
   "outputs": [
    {
     "output_type": "display_data",
     "data": {
      "text/html": [
       "<style scoped>\n",
       "  .ansiout {\n",
       "    display: block;\n",
       "    unicode-bidi: embed;\n",
       "    white-space: pre-wrap;\n",
       "    word-wrap: break-word;\n",
       "    word-break: break-all;\n",
       "    font-family: \"Source Code Pro\", \"Menlo\", monospace;;\n",
       "    font-size: 13px;\n",
       "    color: #555;\n",
       "    margin-left: 4px;\n",
       "    line-height: 19px;\n",
       "  }\n",
       "</style>"
      ]
     },
     "metadata": {
      "application/vnd.databricks.v1+output": {
       "arguments": {},
       "data": "",
       "errorSummary": "",
       "errorTraceType": null,
       "metadata": {},
       "type": "ipynbError"
      }
     },
     "output_type": "display_data"
    }
   ],
   "source": []
  }
 ],
 "metadata": {
  "application/vnd.databricks.v1+notebook": {
   "dashboards": [
    {
     "elements": [
      {
       "dashboardResultIndex": null,
       "elementNUID": "4f89a200-573b-45b8-8af2-3497d9279f41",
       "elementType": "command",
       "guid": "4be52b3e-621a-45bc-9c7b-359a99b9421c",
       "options": null,
       "position": {
        "height": 3,
        "width": 21,
        "x": 0,
        "y": 0,
        "z": null
       },
       "resultIndex": null
      },
      {
       "dashboardResultIndex": null,
       "elementNUID": "b480ba51-7dd2-4a90-8c28-bbbfafc44452",
       "elementType": "command",
       "guid": "d61e288a-70d6-460d-87b1-4157d2b95c7c",
       "options": null,
       "position": {
        "height": 9,
        "width": 22,
        "x": 0,
        "y": 9,
        "z": null
       },
       "resultIndex": null
      },
      {
       "dashboardResultIndex": null,
       "elementNUID": "73a6e389-6f03-4220-abc3-715558748762",
       "elementType": "command",
       "guid": "da0f30e3-5d0e-42f2-9dae-df92edc55665",
       "options": null,
       "position": {
        "height": 6,
        "width": 11,
        "x": 0,
        "y": 3,
        "z": null
       },
       "resultIndex": null
      }
     ],
     "globalVars": {},
     "guid": "eca6d31d-3e22-4619-9288-d3a9725459c9",
     "layoutOption": {
      "grid": true,
      "stack": true
     },
     "nuid": "0f358a7a-76c5-4ff3-9a03-756f4d0792ea",
     "origId": 2633048898624124,
     "title": "Dashboard",
     "version": "DashboardViewV1",
     "width": 1024
    },
    {
     "elements": [
      {
       "dashboardResultIndex": null,
       "elementNUID": "73a6e389-6f03-4220-abc3-715558748762",
       "elementType": "command",
       "guid": "399eebca-09c0-4ff2-8c26-b78948c3630a",
       "options": null,
       "position": {
        "height": 6,
        "width": 12,
        "x": 12,
        "y": 3,
        "z": null
       },
       "resultIndex": null
      },
      {
       "dashboardResultIndex": null,
       "elementNUID": "d1af0eed-4a24-434b-8ee0-20f1cb6de304",
       "elementType": "command",
       "guid": "5fe1368f-e0b6-4256-b390-3c65e56a63b3",
       "options": null,
       "position": {
        "height": 6,
        "width": 12,
        "x": 0,
        "y": 3,
        "z": null
       },
       "resultIndex": null
      },
      {
       "dashboardResultIndex": null,
       "elementNUID": "b480ba51-7dd2-4a90-8c28-bbbfafc44452",
       "elementType": "command",
       "guid": "8058f265-370a-4c20-847c-5c0255a683b0",
       "options": null,
       "position": {
        "height": 7,
        "width": 22,
        "x": 0,
        "y": 9,
        "z": null
       },
       "resultIndex": null
      },
      {
       "dashboardResultIndex": null,
       "elementNUID": "4f89a200-573b-45b8-8af2-3497d9279f41",
       "elementType": "command",
       "guid": "e80371c2-e8e5-4242-8232-62c55f0a9209",
       "options": null,
       "position": {
        "height": 3,
        "width": 22,
        "x": 0,
        "y": 0,
        "z": null
       },
       "resultIndex": null
      }
     ],
     "globalVars": {},
     "guid": "3c306d0d-f8cd-493b-aae6-3a0cf6f09f0e",
     "layoutOption": {
      "grid": true,
      "stack": true
     },
     "nuid": "b2181e0a-e47d-4f98-9840-0916fb9b509b",
     "origId": 2633048898624125,
     "title": "Dashboard 2",
     "version": "DashboardViewV1",
     "width": 1024
    },
    {
     "elements": [
      {
       "dashboardResultIndex": null,
       "elementNUID": "73a6e389-6f03-4220-abc3-715558748762",
       "elementType": "command",
       "guid": "0c8e6f9e-df06-4c8c-9581-ab6665e60199",
       "options": null,
       "position": {
        "height": 5,
        "width": 12,
        "x": 0,
        "y": 2,
        "z": null
       },
       "resultIndex": null
      },
      {
       "dashboardResultIndex": null,
       "elementNUID": "b480ba51-7dd2-4a90-8c28-bbbfafc44452",
       "elementType": "command",
       "guid": "0d7a2b0f-613e-4353-8de0-1a6c8c9da24d",
       "options": null,
       "position": {
        "height": 6,
        "width": 22,
        "x": 0,
        "y": 7,
        "z": null
       },
       "resultIndex": null
      },
      {
       "dashboardResultIndex": null,
       "elementNUID": "d1af0eed-4a24-434b-8ee0-20f1cb6de304",
       "elementType": "command",
       "guid": "a88b17db-aa24-406d-b980-4606aa805fa7",
       "options": null,
       "position": {
        "height": 5,
        "width": 12,
        "x": 12,
        "y": 2,
        "z": null
       },
       "resultIndex": null
      },
      {
       "dashboardResultIndex": null,
       "elementNUID": "4f89a200-573b-45b8-8af2-3497d9279f41",
       "elementType": "command",
       "guid": "b38a7c2e-6bb7-43ef-a347-b6fe8b4e1406",
       "options": null,
       "position": {
        "height": 2,
        "width": 22,
        "x": 0,
        "y": 0,
        "z": null
       },
       "resultIndex": null
      }
     ],
     "globalVars": {},
     "guid": "2ff8be18-92b4-4b37-9a74-d0cfbcb43a47",
     "layoutOption": {
      "grid": true,
      "stack": true
     },
     "nuid": "7b2c9272-2bd9-48b1-a5f7-6281146c7f84",
     "origId": 2633048898624126,
     "title": "My Cool Dashboard",
     "version": "DashboardViewV1",
     "width": 1024
    },
    {
     "elements": [
      {
       "dashboardResultIndex": null,
       "elementNUID": "73a6e389-6f03-4220-abc3-715558748762",
       "elementType": "command",
       "guid": "09cf57a5-ebb7-4ff5-a14c-8af82b986fca",
       "options": null,
       "position": {
        "height": 6,
        "width": 12,
        "x": 0,
        "y": 3,
        "z": null
       },
       "resultIndex": null
      },
      {
       "dashboardResultIndex": null,
       "elementNUID": "d1af0eed-4a24-434b-8ee0-20f1cb6de304",
       "elementType": "command",
       "guid": "d15549fe-a1e0-460b-8599-1855262e12c4",
       "options": null,
       "position": {
        "height": 6,
        "width": 10,
        "x": 12,
        "y": 3,
        "z": null
       },
       "resultIndex": null
      },
      {
       "dashboardResultIndex": null,
       "elementNUID": "b480ba51-7dd2-4a90-8c28-bbbfafc44452",
       "elementType": "command",
       "guid": "de2e9582-c53c-4823-b263-5b05642c58ff",
       "options": null,
       "position": {
        "height": 6,
        "width": 22,
        "x": 0,
        "y": 9,
        "z": null
       },
       "resultIndex": null
      },
      {
       "dashboardResultIndex": null,
       "elementNUID": "4f89a200-573b-45b8-8af2-3497d9279f41",
       "elementType": "command",
       "guid": "e560367c-4330-4347-9565-ce3b2ec0fa27",
       "options": null,
       "position": {
        "height": 3,
        "width": 22,
        "x": 0,
        "y": 0,
        "z": null
       },
       "resultIndex": null
      }
     ],
     "globalVars": {},
     "guid": "414269a6-8194-4c05-bbd5-9ff5fbac57d8",
     "layoutOption": {
      "grid": true,
      "stack": true
     },
     "nuid": "878d5a9e-68da-4d4d-aea5-f6db5e198a97",
     "origId": 2633048898624127,
     "title": "My Fort L Dashboard",
     "version": "DashboardViewV1",
     "width": 1024
    }
   ],
   "language": "python",
   "notebookMetadata": {
    "mostRecentlyExecutedCommandWithImplicitDF": {
     "commandId": 2633048898624122,
     "dataframes": [
      "_sqldf"
     ]
    },
    "pythonIndentUnit": 2
   },
   "notebookName": "04 - Widgets",
   "widgets": {
    "roomtypes": {
     "currentValue": "Private room",
     "nuid": "36c0abc1-a345-48eb-a0a4-a37a24759f2c",
     "widgetInfo": {
      "widgetType": "dropdown",
      "defaultValue": "Private room",
      "label": null,
      "name": "roomtypes",
      "options": {
       "widgetType": "dropdown",
       "choices": [
        "Entire home/apt",
        "Hotel room",
        "Private room",
        "Shared room"
       ]
      }
     }
    }
   }
  }
 },
 "nbformat": 4,
 "nbformat_minor": 0
}
